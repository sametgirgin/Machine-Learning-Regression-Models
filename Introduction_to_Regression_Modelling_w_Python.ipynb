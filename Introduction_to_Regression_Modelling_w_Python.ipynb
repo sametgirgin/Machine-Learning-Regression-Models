{
  "nbformat": 4,
  "nbformat_minor": 0,
  "metadata": {
    "colab": {
      "name": "Introduction to Regression Modelling w/ Python.ipynb",
      "version": "0.3.2",
      "provenance": [],
      "include_colab_link": true
    },
    "kernelspec": {
      "name": "python3",
      "display_name": "Python 3"
    }
  },
  "cells": [
    {
      "cell_type": "markdown",
      "metadata": {
        "id": "view-in-github",
        "colab_type": "text"
      },
      "source": [
        "<a href=\"https://colab.research.google.com/github/sametgirgin/Machine-Learning-Intro/blob/master/Introduction_to_Regression_Modelling_w_Python.ipynb\" target=\"_parent\"><img src=\"https://colab.research.google.com/assets/colab-badge.svg\" alt=\"Open In Colab\"/></a>"
      ]
    },
    {
      "metadata": {
        "id": "XYc4V-J3mlAo",
        "colab_type": "code",
        "colab": {}
      },
      "cell_type": "code",
      "source": [
        "# Diamond Data"
      ],
      "execution_count": 0,
      "outputs": []
    },
    {
      "metadata": {
        "id": "22AknxxXml-a",
        "colab_type": "code",
        "colab": {
          "base_uri": "https://localhost:8080/",
          "height": 356
        },
        "outputId": "ad7361ce-2faf-490f-c09d-313a9274d2c8"
      },
      "cell_type": "code",
      "source": [
        "%matplotlib inline \n",
        "import matplotlib.pyplot as plt\n",
        "import pandas as pd\n",
        "\n",
        "columns=['carat','cut','price']\n",
        "\n",
        "data=[[0.3, 'Ideal', 422],\n",
        "     [0.31,'Ideal',489],\n",
        "     [0.42,'Premium',737],\n",
        "     [0.5,'Ideal', 1415],\n",
        "     [0.51,'Premium',1177],\n",
        "     [0.7, 'Fair', 1865],\n",
        "     [0.73, 'Fair', 2351],\n",
        "     [1.01,'Good',3768],\n",
        "     [1.18,'Very Good', 3965],\n",
        "     [1.18, 'Ideal', 4838]]\n",
        "\n",
        "train=pd.DataFrame(data=data, columns=columns)\n",
        "\n",
        "plt.style.use('fivethirtyeight')\n",
        "train.plot.scatter(x='carat', y='price',s=50)"
      ],
      "execution_count": 37,
      "outputs": [
        {
          "output_type": "stream",
          "text": [
            "'c' argument looks like a single numeric RGB or RGBA sequence, which should be avoided as value-mapping will have precedence in case its length matches with 'x' & 'y'.  Please use a 2-D array with a single row if you really want to specify the same RGB or RGBA value for all points.\n"
          ],
          "name": "stderr"
        },
        {
          "output_type": "execute_result",
          "data": {
            "text/plain": [
              "<matplotlib.axes._subplots.AxesSubplot at 0x7ff58eba2438>"
            ]
          },
          "metadata": {
            "tags": []
          },
          "execution_count": 37
        },
        {
          "output_type": "display_data",
          "data": {
            "image/png": "[encoded data removed]",
            "text/plain": [
              "<Figure size 432x288 with 1 Axes>"
            ]
          },
          "metadata": {
            "tags": []
          }
        }
      ]
    },
    {
      "metadata": {
        "id": "hlMXFu8SmoZT",
        "colab_type": "code",
        "colab": {
          "base_uri": "https://localhost:8080/",
          "height": 347
        },
        "outputId": "60af776a-2014-4392-d70b-9cf4ebbd97f4"
      },
      "cell_type": "code",
      "source": [
        "train"
      ],
      "execution_count": 38,
      "outputs": [
        {
          "output_type": "execute_result",
          "data": {
            "text/html": [
              "<div>\n",
              "<style scoped>\n",
              "    .dataframe tbody tr th:only-of-type {\n",
              "        vertical-align: middle;\n",
              "    }\n",
              "\n",
              "    .dataframe tbody tr th {\n",
              "        vertical-align: top;\n",
              "    }\n",
              "\n",
              "    .dataframe thead th {\n",
              "        text-align: right;\n",
              "    }\n",
              "</style>\n",
              "<table border=\"1\" class=\"dataframe\">\n",
              "  <thead>\n",
              "    <tr style=\"text-align: right;\">\n",
              "      <th></th>\n",
              "      <th>carat</th>\n",
              "      <th>cut</th>\n",
              "      <th>price</th>\n",
              "    </tr>\n",
              "  </thead>\n",
              "  <tbody>\n",
              "    <tr>\n",
              "      <th>0</th>\n",
              "      <td>0.30</td>\n",
              "      <td>Ideal</td>\n",
              "      <td>422</td>\n",
              "    </tr>\n",
              "    <tr>\n",
              "      <th>1</th>\n",
              "      <td>0.31</td>\n",
              "      <td>Ideal</td>\n",
              "      <td>489</td>\n",
              "    </tr>\n",
              "    <tr>\n",
              "      <th>2</th>\n",
              "      <td>0.42</td>\n",
              "      <td>Premium</td>\n",
              "      <td>737</td>\n",
              "    </tr>\n",
              "    <tr>\n",
              "      <th>3</th>\n",
              "      <td>0.50</td>\n",
              "      <td>Ideal</td>\n",
              "      <td>1415</td>\n",
              "    </tr>\n",
              "    <tr>\n",
              "      <th>4</th>\n",
              "      <td>0.51</td>\n",
              "      <td>Premium</td>\n",
              "      <td>1177</td>\n",
              "    </tr>\n",
              "    <tr>\n",
              "      <th>5</th>\n",
              "      <td>0.70</td>\n",
              "      <td>Fair</td>\n",
              "      <td>1865</td>\n",
              "    </tr>\n",
              "    <tr>\n",
              "      <th>6</th>\n",
              "      <td>0.73</td>\n",
              "      <td>Fair</td>\n",
              "      <td>2351</td>\n",
              "    </tr>\n",
              "    <tr>\n",
              "      <th>7</th>\n",
              "      <td>1.01</td>\n",
              "      <td>Good</td>\n",
              "      <td>3768</td>\n",
              "    </tr>\n",
              "    <tr>\n",
              "      <th>8</th>\n",
              "      <td>1.18</td>\n",
              "      <td>Very Good</td>\n",
              "      <td>3965</td>\n",
              "    </tr>\n",
              "    <tr>\n",
              "      <th>9</th>\n",
              "      <td>1.18</td>\n",
              "      <td>Ideal</td>\n",
              "      <td>4838</td>\n",
              "    </tr>\n",
              "  </tbody>\n",
              "</table>\n",
              "</div>"
            ],
            "text/plain": [
              "   carat        cut  price\n",
              "0   0.30      Ideal    422\n",
              "1   0.31      Ideal    489\n",
              "2   0.42    Premium    737\n",
              "3   0.50      Ideal   1415\n",
              "4   0.51    Premium   1177\n",
              "5   0.70       Fair   1865\n",
              "6   0.73       Fair   2351\n",
              "7   1.01       Good   3768\n",
              "8   1.18  Very Good   3965\n",
              "9   1.18      Ideal   4838"
            ]
          },
          "metadata": {
            "tags": []
          },
          "execution_count": 38
        }
      ]
    },
    {
      "metadata": {
        "id": "3h2a4lUkmqGs",
        "colab_type": "code",
        "colab": {}
      },
      "cell_type": "code",
      "source": [
        "#Nearest Neighbors Model (K-Model) 1.MODEL"
      ],
      "execution_count": 0,
      "outputs": []
    },
    {
      "metadata": {
        "id": "DLYQUVF4msfH",
        "colab_type": "code",
        "colab": {
          "base_uri": "https://localhost:8080/",
          "height": 70
        },
        "outputId": "53265411-321f-47be-f022-e0ca4fc73bac"
      },
      "cell_type": "code",
      "source": [
        "features=['carat']\n",
        "target='price'\n",
        "\n",
        "from sklearn.neighbors import KNeighborsRegressor\n",
        "model= KNeighborsRegressor (n_neighbors=2)\n",
        "\n",
        "model.fit(train[features], train[target])\n",
        "#Nearest Neighbor Model "
      ],
      "execution_count": 40,
      "outputs": [
        {
          "output_type": "execute_result",
          "data": {
            "text/plain": [
              "KNeighborsRegressor(algorithm='auto', leaf_size=30, metric='minkowski',\n",
              "          metric_params=None, n_jobs=None, n_neighbors=2, p=2,\n",
              "          weights='uniform')"
            ]
          },
          "metadata": {
            "tags": []
          },
          "execution_count": 40
        }
      ]
    },
    {
      "metadata": {
        "id": "fcomksQsmuJX",
        "colab_type": "code",
        "colab": {
          "base_uri": "https://localhost:8080/",
          "height": 34
        },
        "outputId": "0985cf95-7270-4a64-e4ae-f7b894748dbf"
      },
      "cell_type": "code",
      "source": [
        "#Predict price of 0.7 carat diamond\n",
        "model.predict([[0.7]])"
      ],
      "execution_count": 41,
      "outputs": [
        {
          "output_type": "execute_result",
          "data": {
            "text/plain": [
              "array([2108.])"
            ]
          },
          "metadata": {
            "tags": []
          },
          "execution_count": 41
        }
      ]
    },
    {
      "metadata": {
        "id": "NcPGJ0g_mwdj",
        "colab_type": "code",
        "colab": {
          "base_uri": "https://localhost:8080/",
          "height": 34
        },
        "outputId": "df660be6-c85d-4ba0-ae16-02e670ba46fb"
      },
      "cell_type": "code",
      "source": [
        "#Predict price of 0.9 carat diamond\n",
        "model.predict([[0.9]])"
      ],
      "execution_count": 42,
      "outputs": [
        {
          "output_type": "execute_result",
          "data": {
            "text/plain": [
              "array([3059.5])"
            ]
          },
          "metadata": {
            "tags": []
          },
          "execution_count": 42
        }
      ]
    },
    {
      "metadata": {
        "id": "P4ugGO9gmyWt",
        "colab_type": "code",
        "colab": {
          "base_uri": "https://localhost:8080/",
          "height": 34
        },
        "outputId": "2746735c-75c6-4286-87e4-d44d518d740c"
      },
      "cell_type": "code",
      "source": [
        "#Predict price of 1.2 carat diamond\n",
        "model.predict([[1.2]])"
      ],
      "execution_count": 43,
      "outputs": [
        {
          "output_type": "execute_result",
          "data": {
            "text/plain": [
              "array([4401.5])"
            ]
          },
          "metadata": {
            "tags": []
          },
          "execution_count": 43
        }
      ]
    },
    {
      "metadata": {
        "id": "yuTSC-FIm0ND",
        "colab_type": "code",
        "colab": {
          "base_uri": "https://localhost:8080/",
          "height": 34
        },
        "outputId": "b3389035-702d-4335-c661-deb788770302"
      },
      "cell_type": "code",
      "source": [
        "#Let's get multiple predictions at the same time\n",
        "model.predict([[0.7],[0.9],[1.2]])"
      ],
      "execution_count": 44,
      "outputs": [
        {
          "output_type": "execute_result",
          "data": {
            "text/plain": [
              "array([2108. , 3059.5, 4401.5])"
            ]
          },
          "metadata": {
            "tags": []
          },
          "execution_count": 44
        }
      ]
    },
    {
      "metadata": {
        "id": "yg4hNcZcm2sx",
        "colab_type": "code",
        "colab": {}
      },
      "cell_type": "code",
      "source": [
        "#Lets get prediction for each 1/100 carat from 0 to 1.3 carats\n",
        "\n",
        "#[[0.0],[0.01],[0.02].......[1.28],[1,29]]\n",
        "\n",
        "carats=[[c/100] for c in range(130)]\n",
        "predictions=model.predict(carats)"
      ],
      "execution_count": 0,
      "outputs": []
    },
    {
      "metadata": {
        "id": "EqooE6YGm4_r",
        "colab_type": "code",
        "colab": {
          "base_uri": "https://localhost:8080/",
          "height": 358
        },
        "outputId": "7958da2b-2a96-4eaf-9749-f1cbf62a4099"
      },
      "cell_type": "code",
      "source": [
        "#Plot these predictions\n",
        "train.plot.scatter(x='carat', y='price', s=50)\n",
        "plt.step(carats,predictions)\n",
        "plt.title('Nearest Neighbors Model');"
      ],
      "execution_count": 46,
      "outputs": [
        {
          "output_type": "stream",
          "text": [
            "'c' argument looks like a single numeric RGB or RGBA sequence, which should be avoided as value-mapping will have precedence in case its length matches with 'x' & 'y'.  Please use a 2-D array with a single row if you really want to specify the same RGB or RGBA value for all points.\n"
          ],
          "name": "stderr"
        },
        {
          "output_type": "display_data",
          "data": {
            "image/png": "[encoded data removed]",
            "text/plain": [
              "<Figure size 432x288 with 1 Axes>"
            ]
          },
          "metadata": {
            "tags": []
          }
        }
      ]
    },
    {
      "metadata": {
        "id": "RsSw6bSXm7cD",
        "colab_type": "code",
        "colab": {}
      },
      "cell_type": "code",
      "source": [
        "#LINEAR REGRESSION 2.MODEL\n",
        "#The first two lines of code are different, but the rest of the cell is the same"
      ],
      "execution_count": 0,
      "outputs": []
    },
    {
      "metadata": {
        "id": "3RCL-XMpm9tP",
        "colab_type": "code",
        "colab": {
          "base_uri": "https://localhost:8080/",
          "height": 358
        },
        "outputId": "f0ec3024-df24-45f1-b91c-53443f04fe54"
      },
      "cell_type": "code",
      "source": [
        "from sklearn.linear_model import LinearRegression\n",
        "model=LinearRegression()\n",
        "\n",
        "model.fit(train[features],train[target])\n",
        "predictions=model.predict(carats)\n",
        "train.plot.scatter(x='carat',y='price',s=50)\n",
        "plt.plot(carats,predictions)\n",
        "plt.title('Linear Regression'); "
      ],
      "execution_count": 48,
      "outputs": [
        {
          "output_type": "stream",
          "text": [
            "'c' argument looks like a single numeric RGB or RGBA sequence, which should be avoided as value-mapping will have precedence in case its length matches with 'x' & 'y'.  Please use a 2-D array with a single row if you really want to specify the same RGB or RGBA value for all points.\n"
          ],
          "name": "stderr"
        },
        {
          "output_type": "display_data",
          "data": {
            "image/png": "[encoded data removed]",
            "text/plain": [
              "<Figure size 432x288 with 1 Axes>"
            ]
          },
          "metadata": {
            "tags": []
          }
        }
      ]
    },
    {
      "metadata": {
        "id": "NCRTP3xYm_pc",
        "colab_type": "code",
        "colab": {}
      },
      "cell_type": "code",
      "source": [
        "#We can get the equation for the line"
      ],
      "execution_count": 0,
      "outputs": []
    },
    {
      "metadata": {
        "id": "helUiatEnBs_",
        "colab_type": "code",
        "colab": {
          "base_uri": "https://localhost:8080/",
          "height": 34
        },
        "outputId": "6e703d51-b048-4448-bab5-f7be7b629019"
      },
      "cell_type": "code",
      "source": [
        "model.coef_,model.intercept_"
      ],
      "execution_count": 50,
      "outputs": [
        {
          "output_type": "execute_result",
          "data": {
            "text/plain": [
              "(array([4626.92985203]), -1062.1200187896338)"
            ]
          },
          "metadata": {
            "tags": []
          },
          "execution_count": 50
        }
      ]
    },
    {
      "metadata": {
        "id": "_-GfIU4inDat",
        "colab_type": "code",
        "colab": {}
      },
      "cell_type": "code",
      "source": [
        "# y=mx+b\n",
        "# price=4627*carat-1062"
      ],
      "execution_count": 0,
      "outputs": []
    },
    {
      "metadata": {
        "id": "Dvn1pFQsnGOU",
        "colab_type": "code",
        "colab": {}
      },
      "cell_type": "code",
      "source": [
        "##POLYNOMIAL REGRESSION-the first few lines are different, but the rest of the cell is the same \n",
        "#This model is more flexible-too flexible \"OVERFITS\" 3. MODEL"
      ],
      "execution_count": 0,
      "outputs": []
    },
    {
      "metadata": {
        "id": "P0tzuai4nIO0",
        "colab_type": "code",
        "colab": {
          "base_uri": "https://localhost:8080/",
          "height": 358
        },
        "outputId": "2d494e67-aa4c-4095-8973-18675fa7a271"
      },
      "cell_type": "code",
      "source": [
        "from sklearn.pipeline import make_pipeline\n",
        "from sklearn.preprocessing import PolynomialFeatures\n",
        "model=make_pipeline(PolynomialFeatures(degree=8),LinearRegression())\n",
        "\n",
        "model.fit(train[features],train[target])\n",
        "predictions=model.predict(carats)\n",
        "train.plot.scatter(x='carat',y='price',s=40)\n",
        "plt.plot(carats,predictions)\n",
        "plt.title('8th Degree Polynomial (Overfit)')\n",
        "plt.ylim((-1000,5000)); "
      ],
      "execution_count": 53,
      "outputs": [
        {
          "output_type": "stream",
          "text": [
            "'c' argument looks like a single numeric RGB or RGBA sequence, which should be avoided as value-mapping will have precedence in case its length matches with 'x' & 'y'.  Please use a 2-D array with a single row if you really want to specify the same RGB or RGBA value for all points.\n"
          ],
          "name": "stderr"
        },
        {
          "output_type": "display_data",
          "data": {
            "image/png": "[encoded data removed]",
            "text/plain": [
              "<Figure size 432x288 with 1 Axes>"
            ]
          },
          "metadata": {
            "tags": []
          }
        }
      ]
    },
    {
      "metadata": {
        "id": "cAuJP43ZnJ_M",
        "colab_type": "code",
        "colab": {}
      },
      "cell_type": "code",
      "source": [
        "#Bu model çalışılan verilere  daha mükemmel uyuyor ama bazı tahminleri sıkıntılı"
      ],
      "execution_count": 0,
      "outputs": []
    },
    {
      "metadata": {
        "id": "J9UdqxnbnL-O",
        "colab_type": "code",
        "colab": {
          "base_uri": "https://localhost:8080/",
          "height": 34
        },
        "outputId": "674bae85-78ac-4692-f1aa-a6a730ce3768"
      },
      "cell_type": "code",
      "source": [
        "model.predict([[0.9]])"
      ],
      "execution_count": 55,
      "outputs": [
        {
          "output_type": "execute_result",
          "data": {
            "text/plain": [
              "array([-32870.7744747])"
            ]
          },
          "metadata": {
            "tags": []
          },
          "execution_count": 55
        }
      ]
    },
    {
      "metadata": {
        "id": "3GkHQJz5nN05",
        "colab_type": "code",
        "colab": {
          "base_uri": "https://localhost:8080/",
          "height": 212
        },
        "outputId": "75bbb623-0004-4e55-b4d6-15fdb7547788"
      },
      "cell_type": "code",
      "source": [
        "#These are the polynomial coefficients\n",
        "print('Intercept', model.named_steps['linearregression'].intercept_.astype(int))\n",
        "print(pd.Series(model.named_steps['linearregression'].coef_.astype(int),\n",
        "                model.named_steps['polynomialfeatures'].get_feature_names('c')))"
      ],
      "execution_count": 56,
      "outputs": [
        {
          "output_type": "stream",
          "text": [
            "Intercept -7166492\n",
            "1               0\n",
            "c       110806306\n",
            "c^2    -726566754\n",
            "c^3    2636594561\n",
            "c^4   -5788569525\n",
            "c^5    7872386982\n",
            "c^6   -6477657062\n",
            "c^7    2949503216\n",
            "c^8    -569338231\n",
            "dtype: int64\n"
          ],
          "name": "stdout"
        }
      ]
    },
    {
      "metadata": {
        "id": "MJeKhqKsnPp6",
        "colab_type": "code",
        "colab": {}
      },
      "cell_type": "code",
      "source": [
        "##'Dummy' Baseline-(This model is 'UNDERFITS') 4. MODEL"
      ],
      "execution_count": 0,
      "outputs": []
    },
    {
      "metadata": {
        "id": "cuWCGrxCnRhR",
        "colab_type": "code",
        "colab": {
          "base_uri": "https://localhost:8080/",
          "height": 358
        },
        "outputId": "d0d599f0-f37d-4dee-b46a-c1a2ca708720"
      },
      "cell_type": "code",
      "source": [
        "from sklearn.dummy import DummyRegressor\n",
        "model=DummyRegressor(strategy='mean')\n",
        "\n",
        "model.fit(train[features],train[target])\n",
        "predictions=model.predict(carats)\n",
        "train.plot.scatter(x='carat',y='price',s=50)\n",
        "plt.plot(carats,predictions)\n",
        "plt.title('Mean Baseline (Underfit)');"
      ],
      "execution_count": 58,
      "outputs": [
        {
          "output_type": "stream",
          "text": [
            "'c' argument looks like a single numeric RGB or RGBA sequence, which should be avoided as value-mapping will have precedence in case its length matches with 'x' & 'y'.  Please use a 2-D array with a single row if you really want to specify the same RGB or RGBA value for all points.\n"
          ],
          "name": "stderr"
        },
        {
          "output_type": "display_data",
          "data": {
            "image/png": "[encoded data removed]",
            "text/plain": [
              "<Figure size 432x288 with 1 Axes>"
            ]
          },
          "metadata": {
            "tags": []
          }
        }
      ]
    },
    {
      "metadata": {
        "id": "5ny3GESjnUEs",
        "colab_type": "code",
        "colab": {}
      },
      "cell_type": "code",
      "source": [
        "#Test Data: \n",
        "#How to choose the best model? To avoid overfitting, use different \n",
        "#data for training and testing"
      ],
      "execution_count": 0,
      "outputs": []
    },
    {
      "metadata": {
        "id": "54WDhOGynWax",
        "colab_type": "code",
        "colab": {}
      },
      "cell_type": "code",
      "source": [
        "data=[[0.3, 'Ideal', 432],\n",
        "     [0.34,'Ideal',687],\n",
        "     [0.37,'Premium',1124],\n",
        "     [0.4,'Good', 720],\n",
        "     [0.51,'Ideal',1397],\n",
        "     [0.51, 'Very Good', 1284],\n",
        "     [0.59, 'Ideal', 1437],\n",
        "     [0.7,'Ideal',3419],\n",
        "     [0.9,'Premium', 3484],\n",
        "     [0.9, 'Fair', 2964]]\n",
        "\n",
        "test=pd.DataFrame(data=data,columns=columns)"
      ],
      "execution_count": 0,
      "outputs": []
    },
    {
      "metadata": {
        "id": "KgpEFoRsnYP1",
        "colab_type": "code",
        "colab": {
          "base_uri": "https://localhost:8080/",
          "height": 338
        },
        "outputId": "8c681688-31fc-4f68-838d-8cbd2908d4aa"
      },
      "cell_type": "code",
      "source": [
        "ax=train.plot.scatter(x='carat', y='price',s=50)\n",
        "test.plot.scatter(x='carat',y='price',s=50,color='orange',ax=ax)\n",
        "plt.legend(['Train data','Test Data']);"
      ],
      "execution_count": 61,
      "outputs": [
        {
          "output_type": "stream",
          "text": [
            "'c' argument looks like a single numeric RGB or RGBA sequence, which should be avoided as value-mapping will have precedence in case its length matches with 'x' & 'y'.  Please use a 2-D array with a single row if you really want to specify the same RGB or RGBA value for all points.\n"
          ],
          "name": "stderr"
        },
        {
          "output_type": "display_data",
          "data": {
            "image/png": "[encoded data removed]",
            "text/plain": [
              "<Figure size 432x288 with 1 Axes>"
            ]
          },
          "metadata": {
            "tags": []
          }
        }
      ]
    },
    {
      "metadata": {
        "id": "-V6zWGXXnaT_",
        "colab_type": "code",
        "colab": {}
      },
      "cell_type": "code",
      "source": [
        "#COMPARE FOUR MODELS: How well does each model fit the training and test data?"
      ],
      "execution_count": 0,
      "outputs": []
    },
    {
      "metadata": {
        "id": "0ivpYgMpncFQ",
        "colab_type": "code",
        "colab": {
          "base_uri": "https://localhost:8080/",
          "height": 1538
        },
        "outputId": "11e17e20-7aa8-4acb-d8a4-adb3b37ccace"
      },
      "cell_type": "code",
      "source": [
        "#Use mean absolute error to compare models\n",
        "from sklearn.metrics import mean_absolute_error\n",
        "\n",
        "#Comparison of the four models\n",
        "\n",
        "models=[('Nearest Neighbors Model', KNeighborsRegressor(n_neighbors=2)), \n",
        "       ('Linear Regression', LinearRegression()),\n",
        "       ('8th Degree Polynomial', make_pipeline(PolynomialFeatures(degree=8),LinearRegression())),\n",
        "       ('Mean Baseline', DummyRegressor(strategy='mean'))]\n",
        "for name, model in models:\n",
        "    \n",
        "    #Plot training data (blue dots)\n",
        "    ax=train.plot.scatter(x='carat', y='price',s=50)\n",
        "    \n",
        "    #Plot testing data (orange dots)\n",
        "    test.plot.scatter(x='carat',y='price', s=50, color='orange', ax=ax)\n",
        "    \n",
        "    #Train model: \n",
        "    model.fit(train[features],train[target])\n",
        "    \n",
        "    #Plot predictions(blue line)\n",
        "    plt.plot(carats,model.predict(carats))\n",
        "    plt.title(name)\n",
        "    plt.ylim((-1000,5000))\n",
        "    plt.show()\n",
        "    \n",
        "    #Calculate mean absolute error on the training data\n",
        "    #average distance between line and blue dots\n",
        "    y_true=train[target]\n",
        "    y_pred=model.predict(train[features])\n",
        "    train_error=mean_absolute_error(y_true,y_pred)\n",
        "    #Calculate mean absolute error on the test data\n",
        "    #average distance between line and orange dots\n",
        "    y_true=test[target]\n",
        "    y_pred=model.predict(test[features])\n",
        "    test_error=mean_absolute_error(y_true,y_pred)  \n",
        "    \n",
        "    #Display the errors\n",
        "    print('Train Error: $', round(train_error))\n",
        "    print('Test Error: $', round(test_error),'\\n')"
      ],
      "execution_count": 63,
      "outputs": [
        {
          "output_type": "stream",
          "text": [
            "'c' argument looks like a single numeric RGB or RGBA sequence, which should be avoided as value-mapping will have precedence in case its length matches with 'x' & 'y'.  Please use a 2-D array with a single row if you really want to specify the same RGB or RGBA value for all points.\n"
          ],
          "name": "stderr"
        },
        {
          "output_type": "display_data",
          "data": {
            "image/png": "[encoded data removed]",
            "text/plain": [
              "<Figure size 432x288 with 1 Axes>"
            ]
          },
          "metadata": {
            "tags": []
          }
        },
        {
          "output_type": "stream",
          "text": [
            "'c' argument looks like a single numeric RGB or RGBA sequence, which should be avoided as value-mapping will have precedence in case its length matches with 'x' & 'y'.  Please use a 2-D array with a single row if you really want to specify the same RGB or RGBA value for all points.\n"
          ],
          "name": "stderr"
        },
        {
          "output_type": "stream",
          "text": [
            "Train Error: $ 210.0\n",
            "Test Error: $ 296.0 \n",
            "\n"
          ],
          "name": "stdout"
        },
        {
          "output_type": "display_data",
          "data": {
            "image/png": "[encoded data removed]",
            "text/plain": [
              "<Figure size 432x288 with 1 Axes>"
            ]
          },
          "metadata": {
            "tags": []
          }
        },
        {
          "output_type": "stream",
          "text": [
            "'c' argument looks like a single numeric RGB or RGBA sequence, which should be avoided as value-mapping will have precedence in case its length matches with 'x' & 'y'.  Please use a 2-D array with a single row if you really want to specify the same RGB or RGBA value for all points.\n"
          ],
          "name": "stderr"
        },
        {
          "output_type": "stream",
          "text": [
            "Train Error: $ 202.0\n",
            "Test Error: $ 293.0 \n",
            "\n"
          ],
          "name": "stdout"
        },
        {
          "output_type": "display_data",
          "data": {
            "image/png": "[encoded data removed]",
            "text/plain": [
              "<Figure size 432x288 with 1 Axes>"
            ]
          },
          "metadata": {
            "tags": []
          }
        },
        {
          "output_type": "stream",
          "text": [
            "'c' argument looks like a single numeric RGB or RGBA sequence, which should be avoided as value-mapping will have precedence in case its length matches with 'x' & 'y'.  Please use a 2-D array with a single row if you really want to specify the same RGB or RGBA value for all points.\n"
          ],
          "name": "stderr"
        },
        {
          "output_type": "stream",
          "text": [
            "Train Error: $ 87.0\n",
            "Test Error: $ 7963.0 \n",
            "\n"
          ],
          "name": "stdout"
        },
        {
          "output_type": "display_data",
          "data": {
            "image/png": "[encoded data removed]",
            "text/plain": [
              "<Figure size 432x288 with 1 Axes>"
            ]
          },
          "metadata": {
            "tags": []
          }
        },
        {
          "output_type": "stream",
          "text": [
            "Train Error: $ 1302.0\n",
            "Test Error: $ 1120.0 \n",
            "\n"
          ],
          "name": "stdout"
        }
      ]
    },
    {
      "metadata": {
        "id": "Luu09r7kneN_",
        "colab_type": "code",
        "colab": {}
      },
      "cell_type": "code",
      "source": [
        "#MEAN ABSOLUTE ERROR\n",
        "#The first step is to calculate the difference between predicted values and true values"
      ],
      "execution_count": 0,
      "outputs": []
    },
    {
      "metadata": {
        "id": "cqBEBG8lng-C",
        "colab_type": "code",
        "colab": {
          "base_uri": "https://localhost:8080/",
          "height": 212
        },
        "outputId": "959c54ea-1003-41c2-e882-8d163431e660"
      },
      "cell_type": "code",
      "source": [
        "#Error for Baseline Model\n",
        "predicted=train.price.mean()\n",
        "true=train.price\n",
        "(predicted-true)"
      ],
      "execution_count": 65,
      "outputs": [
        {
          "output_type": "execute_result",
          "data": {
            "text/plain": [
              "0    1680.7\n",
              "1    1613.7\n",
              "2    1365.7\n",
              "3     687.7\n",
              "4     925.7\n",
              "5     237.7\n",
              "6    -248.3\n",
              "7   -1665.3\n",
              "8   -1862.3\n",
              "9   -2735.3\n",
              "Name: price, dtype: float64"
            ]
          },
          "metadata": {
            "tags": []
          },
          "execution_count": 65
        }
      ]
    },
    {
      "metadata": {
        "id": "SgyZ2ddunihO",
        "colab_type": "code",
        "colab": {
          "base_uri": "https://localhost:8080/",
          "height": 212
        },
        "outputId": "57bd99b0-1c5d-4eee-94f3-fca62172222a"
      },
      "cell_type": "code",
      "source": [
        "#Absolute Error for Baseline Model\n",
        "(predicted-true).abs()"
      ],
      "execution_count": 66,
      "outputs": [
        {
          "output_type": "execute_result",
          "data": {
            "text/plain": [
              "0    1680.7\n",
              "1    1613.7\n",
              "2    1365.7\n",
              "3     687.7\n",
              "4     925.7\n",
              "5     237.7\n",
              "6     248.3\n",
              "7    1665.3\n",
              "8    1862.3\n",
              "9    2735.3\n",
              "Name: price, dtype: float64"
            ]
          },
          "metadata": {
            "tags": []
          },
          "execution_count": 66
        }
      ]
    },
    {
      "metadata": {
        "id": "ovZags-TnkgZ",
        "colab_type": "code",
        "colab": {
          "base_uri": "https://localhost:8080/",
          "height": 34
        },
        "outputId": "2599af49-13db-4a32-979c-c6353a69c393"
      },
      "cell_type": "code",
      "source": [
        "#Mean absolute value of error for Baseline Model:\n",
        "(predicted-true).abs().mean()"
      ],
      "execution_count": 67,
      "outputs": [
        {
          "output_type": "execute_result",
          "data": {
            "text/plain": [
              "1302.2399999999998"
            ]
          },
          "metadata": {
            "tags": []
          },
          "execution_count": 67
        }
      ]
    },
    {
      "metadata": {
        "id": "IbmEGPKjnmTN",
        "colab_type": "code",
        "colab": {
          "base_uri": "https://localhost:8080/",
          "height": 34
        },
        "outputId": "a2dbd5b7-74f0-4c10-a5b8-d229e21b2f12"
      },
      "cell_type": "code",
      "source": [
        "#if we calculate the Mean Error\n",
        "(predicted-true).mean()"
      ],
      "execution_count": 68,
      "outputs": [
        {
          "output_type": "execute_result",
          "data": {
            "text/plain": [
              "-1.8189894035458566e-13"
            ]
          },
          "metadata": {
            "tags": []
          },
          "execution_count": 68
        }
      ]
    },
    {
      "metadata": {
        "id": "tmV4-sminn53",
        "colab_type": "code",
        "colab": {
          "base_uri": "https://localhost:8080/",
          "height": 347
        },
        "outputId": "d1c7332c-7929-46ec-a4ac-bc05d5463bdf"
      },
      "cell_type": "code",
      "source": [
        "#MORE FEATURES:\n",
        "train"
      ],
      "execution_count": 69,
      "outputs": [
        {
          "output_type": "execute_result",
          "data": {
            "text/html": [
              "<div>\n",
              "<style scoped>\n",
              "    .dataframe tbody tr th:only-of-type {\n",
              "        vertical-align: middle;\n",
              "    }\n",
              "\n",
              "    .dataframe tbody tr th {\n",
              "        vertical-align: top;\n",
              "    }\n",
              "\n",
              "    .dataframe thead th {\n",
              "        text-align: right;\n",
              "    }\n",
              "</style>\n",
              "<table border=\"1\" class=\"dataframe\">\n",
              "  <thead>\n",
              "    <tr style=\"text-align: right;\">\n",
              "      <th></th>\n",
              "      <th>carat</th>\n",
              "      <th>cut</th>\n",
              "      <th>price</th>\n",
              "    </tr>\n",
              "  </thead>\n",
              "  <tbody>\n",
              "    <tr>\n",
              "      <th>0</th>\n",
              "      <td>0.30</td>\n",
              "      <td>Ideal</td>\n",
              "      <td>422</td>\n",
              "    </tr>\n",
              "    <tr>\n",
              "      <th>1</th>\n",
              "      <td>0.31</td>\n",
              "      <td>Ideal</td>\n",
              "      <td>489</td>\n",
              "    </tr>\n",
              "    <tr>\n",
              "      <th>2</th>\n",
              "      <td>0.42</td>\n",
              "      <td>Premium</td>\n",
              "      <td>737</td>\n",
              "    </tr>\n",
              "    <tr>\n",
              "      <th>3</th>\n",
              "      <td>0.50</td>\n",
              "      <td>Ideal</td>\n",
              "      <td>1415</td>\n",
              "    </tr>\n",
              "    <tr>\n",
              "      <th>4</th>\n",
              "      <td>0.51</td>\n",
              "      <td>Premium</td>\n",
              "      <td>1177</td>\n",
              "    </tr>\n",
              "    <tr>\n",
              "      <th>5</th>\n",
              "      <td>0.70</td>\n",
              "      <td>Fair</td>\n",
              "      <td>1865</td>\n",
              "    </tr>\n",
              "    <tr>\n",
              "      <th>6</th>\n",
              "      <td>0.73</td>\n",
              "      <td>Fair</td>\n",
              "      <td>2351</td>\n",
              "    </tr>\n",
              "    <tr>\n",
              "      <th>7</th>\n",
              "      <td>1.01</td>\n",
              "      <td>Good</td>\n",
              "      <td>3768</td>\n",
              "    </tr>\n",
              "    <tr>\n",
              "      <th>8</th>\n",
              "      <td>1.18</td>\n",
              "      <td>Very Good</td>\n",
              "      <td>3965</td>\n",
              "    </tr>\n",
              "    <tr>\n",
              "      <th>9</th>\n",
              "      <td>1.18</td>\n",
              "      <td>Ideal</td>\n",
              "      <td>4838</td>\n",
              "    </tr>\n",
              "  </tbody>\n",
              "</table>\n",
              "</div>"
            ],
            "text/plain": [
              "   carat        cut  price\n",
              "0   0.30      Ideal    422\n",
              "1   0.31      Ideal    489\n",
              "2   0.42    Premium    737\n",
              "3   0.50      Ideal   1415\n",
              "4   0.51    Premium   1177\n",
              "5   0.70       Fair   1865\n",
              "6   0.73       Fair   2351\n",
              "7   1.01       Good   3768\n",
              "8   1.18  Very Good   3965\n",
              "9   1.18      Ideal   4838"
            ]
          },
          "metadata": {
            "tags": []
          },
          "execution_count": 69
        }
      ]
    },
    {
      "metadata": {
        "id": "1gjphnOhnpq-",
        "colab_type": "code",
        "colab": {
          "base_uri": "https://localhost:8080/",
          "height": 596
        },
        "outputId": "309a4d4f-1866-41e1-895c-fa02aae520cc"
      },
      "cell_type": "code",
      "source": [
        "features=['carat','cut']\n",
        "target='price'\n",
        "model=LinearRegression()\n",
        "model.fit(train[features],train[target])#cut is not a number"
      ],
      "execution_count": 70,
      "outputs": [
        {
          "output_type": "error",
          "ename": "ValueError",
          "evalue": "ignored",
          "traceback": [
            "\u001b[0;31m---------------------------------------------------------------------------\u001b[0m",
            "\u001b[0;31mValueError\u001b[0m                                Traceback (most recent call last)",
            "\u001b[0;32m<ipython-input-70-c568c9c8eb05>\u001b[0m in \u001b[0;36m<module>\u001b[0;34m()\u001b[0m\n\u001b[1;32m      2\u001b[0m \u001b[0mtarget\u001b[0m\u001b[0;34m=\u001b[0m\u001b[0;34m'price'\u001b[0m\u001b[0;34m\u001b[0m\u001b[0;34m\u001b[0m\u001b[0m\n\u001b[1;32m      3\u001b[0m \u001b[0mmodel\u001b[0m\u001b[0;34m=\u001b[0m\u001b[0mLinearRegression\u001b[0m\u001b[0;34m(\u001b[0m\u001b[0;34m)\u001b[0m\u001b[0;34m\u001b[0m\u001b[0;34m\u001b[0m\u001b[0m\n\u001b[0;32m----> 4\u001b[0;31m \u001b[0mmodel\u001b[0m\u001b[0;34m.\u001b[0m\u001b[0mfit\u001b[0m\u001b[0;34m(\u001b[0m\u001b[0mtrain\u001b[0m\u001b[0;34m[\u001b[0m\u001b[0mfeatures\u001b[0m\u001b[0;34m]\u001b[0m\u001b[0;34m,\u001b[0m\u001b[0mtrain\u001b[0m\u001b[0;34m[\u001b[0m\u001b[0mtarget\u001b[0m\u001b[0;34m]\u001b[0m\u001b[0;34m)\u001b[0m\u001b[0;31m#cut is not a number\u001b[0m\u001b[0;34m\u001b[0m\u001b[0;34m\u001b[0m\u001b[0m\n\u001b[0m",
            "\u001b[0;32m/usr/local/lib/python3.6/dist-packages/sklearn/linear_model/base.py\u001b[0m in \u001b[0;36mfit\u001b[0;34m(self, X, y, sample_weight)\u001b[0m\n\u001b[1;32m    456\u001b[0m         \u001b[0mn_jobs_\u001b[0m \u001b[0;34m=\u001b[0m \u001b[0mself\u001b[0m\u001b[0;34m.\u001b[0m\u001b[0mn_jobs\u001b[0m\u001b[0;34m\u001b[0m\u001b[0;34m\u001b[0m\u001b[0m\n\u001b[1;32m    457\u001b[0m         X, y = check_X_y(X, y, accept_sparse=['csr', 'csc', 'coo'],\n\u001b[0;32m--> 458\u001b[0;31m                          y_numeric=True, multi_output=True)\n\u001b[0m\u001b[1;32m    459\u001b[0m \u001b[0;34m\u001b[0m\u001b[0m\n\u001b[1;32m    460\u001b[0m         \u001b[0;32mif\u001b[0m \u001b[0msample_weight\u001b[0m \u001b[0;32mis\u001b[0m \u001b[0;32mnot\u001b[0m \u001b[0;32mNone\u001b[0m \u001b[0;32mand\u001b[0m \u001b[0mnp\u001b[0m\u001b[0;34m.\u001b[0m\u001b[0matleast_1d\u001b[0m\u001b[0;34m(\u001b[0m\u001b[0msample_weight\u001b[0m\u001b[0;34m)\u001b[0m\u001b[0;34m.\u001b[0m\u001b[0mndim\u001b[0m \u001b[0;34m>\u001b[0m \u001b[0;36m1\u001b[0m\u001b[0;34m:\u001b[0m\u001b[0;34m\u001b[0m\u001b[0;34m\u001b[0m\u001b[0m\n",
            "\u001b[0;32m/usr/local/lib/python3.6/dist-packages/sklearn/utils/validation.py\u001b[0m in \u001b[0;36mcheck_X_y\u001b[0;34m(X, y, accept_sparse, accept_large_sparse, dtype, order, copy, force_all_finite, ensure_2d, allow_nd, multi_output, ensure_min_samples, ensure_min_features, y_numeric, warn_on_dtype, estimator)\u001b[0m\n\u001b[1;32m    754\u001b[0m                     \u001b[0mensure_min_features\u001b[0m\u001b[0;34m=\u001b[0m\u001b[0mensure_min_features\u001b[0m\u001b[0;34m,\u001b[0m\u001b[0;34m\u001b[0m\u001b[0;34m\u001b[0m\u001b[0m\n\u001b[1;32m    755\u001b[0m                     \u001b[0mwarn_on_dtype\u001b[0m\u001b[0;34m=\u001b[0m\u001b[0mwarn_on_dtype\u001b[0m\u001b[0;34m,\u001b[0m\u001b[0;34m\u001b[0m\u001b[0;34m\u001b[0m\u001b[0m\n\u001b[0;32m--> 756\u001b[0;31m                     estimator=estimator)\n\u001b[0m\u001b[1;32m    757\u001b[0m     \u001b[0;32mif\u001b[0m \u001b[0mmulti_output\u001b[0m\u001b[0;34m:\u001b[0m\u001b[0;34m\u001b[0m\u001b[0;34m\u001b[0m\u001b[0m\n\u001b[1;32m    758\u001b[0m         y = check_array(y, 'csr', force_all_finite=True, ensure_2d=False,\n",
            "\u001b[0;32m/usr/local/lib/python3.6/dist-packages/sklearn/utils/validation.py\u001b[0m in \u001b[0;36mcheck_array\u001b[0;34m(array, accept_sparse, accept_large_sparse, dtype, order, copy, force_all_finite, ensure_2d, allow_nd, ensure_min_samples, ensure_min_features, warn_on_dtype, estimator)\u001b[0m\n\u001b[1;32m    565\u001b[0m         \u001b[0;31m# make sure we actually converted to numeric:\u001b[0m\u001b[0;34m\u001b[0m\u001b[0;34m\u001b[0m\u001b[0;34m\u001b[0m\u001b[0m\n\u001b[1;32m    566\u001b[0m         \u001b[0;32mif\u001b[0m \u001b[0mdtype_numeric\u001b[0m \u001b[0;32mand\u001b[0m \u001b[0marray\u001b[0m\u001b[0;34m.\u001b[0m\u001b[0mdtype\u001b[0m\u001b[0;34m.\u001b[0m\u001b[0mkind\u001b[0m \u001b[0;34m==\u001b[0m \u001b[0;34m\"O\"\u001b[0m\u001b[0;34m:\u001b[0m\u001b[0;34m\u001b[0m\u001b[0;34m\u001b[0m\u001b[0m\n\u001b[0;32m--> 567\u001b[0;31m             \u001b[0marray\u001b[0m \u001b[0;34m=\u001b[0m \u001b[0marray\u001b[0m\u001b[0;34m.\u001b[0m\u001b[0mastype\u001b[0m\u001b[0;34m(\u001b[0m\u001b[0mnp\u001b[0m\u001b[0;34m.\u001b[0m\u001b[0mfloat64\u001b[0m\u001b[0;34m)\u001b[0m\u001b[0;34m\u001b[0m\u001b[0;34m\u001b[0m\u001b[0m\n\u001b[0m\u001b[1;32m    568\u001b[0m         \u001b[0;32mif\u001b[0m \u001b[0;32mnot\u001b[0m \u001b[0mallow_nd\u001b[0m \u001b[0;32mand\u001b[0m \u001b[0marray\u001b[0m\u001b[0;34m.\u001b[0m\u001b[0mndim\u001b[0m \u001b[0;34m>=\u001b[0m \u001b[0;36m3\u001b[0m\u001b[0;34m:\u001b[0m\u001b[0;34m\u001b[0m\u001b[0;34m\u001b[0m\u001b[0m\n\u001b[1;32m    569\u001b[0m             raise ValueError(\"Found array with dim %d. %s expected <= 2.\"\n",
            "\u001b[0;31mValueError\u001b[0m: could not convert string to float: 'Ideal'"
          ]
        }
      ]
    },
    {
      "metadata": {
        "id": "XO7oKmqynrro",
        "colab_type": "code",
        "colab": {
          "base_uri": "https://localhost:8080/",
          "height": 347
        },
        "outputId": "a0797433-6bb9-4a4c-f02e-48fd2343b02e"
      },
      "cell_type": "code",
      "source": [
        "train"
      ],
      "execution_count": 71,
      "outputs": [
        {
          "output_type": "execute_result",
          "data": {
            "text/html": [
              "<div>\n",
              "<style scoped>\n",
              "    .dataframe tbody tr th:only-of-type {\n",
              "        vertical-align: middle;\n",
              "    }\n",
              "\n",
              "    .dataframe tbody tr th {\n",
              "        vertical-align: top;\n",
              "    }\n",
              "\n",
              "    .dataframe thead th {\n",
              "        text-align: right;\n",
              "    }\n",
              "</style>\n",
              "<table border=\"1\" class=\"dataframe\">\n",
              "  <thead>\n",
              "    <tr style=\"text-align: right;\">\n",
              "      <th></th>\n",
              "      <th>carat</th>\n",
              "      <th>cut</th>\n",
              "      <th>price</th>\n",
              "    </tr>\n",
              "  </thead>\n",
              "  <tbody>\n",
              "    <tr>\n",
              "      <th>0</th>\n",
              "      <td>0.30</td>\n",
              "      <td>Ideal</td>\n",
              "      <td>422</td>\n",
              "    </tr>\n",
              "    <tr>\n",
              "      <th>1</th>\n",
              "      <td>0.31</td>\n",
              "      <td>Ideal</td>\n",
              "      <td>489</td>\n",
              "    </tr>\n",
              "    <tr>\n",
              "      <th>2</th>\n",
              "      <td>0.42</td>\n",
              "      <td>Premium</td>\n",
              "      <td>737</td>\n",
              "    </tr>\n",
              "    <tr>\n",
              "      <th>3</th>\n",
              "      <td>0.50</td>\n",
              "      <td>Ideal</td>\n",
              "      <td>1415</td>\n",
              "    </tr>\n",
              "    <tr>\n",
              "      <th>4</th>\n",
              "      <td>0.51</td>\n",
              "      <td>Premium</td>\n",
              "      <td>1177</td>\n",
              "    </tr>\n",
              "    <tr>\n",
              "      <th>5</th>\n",
              "      <td>0.70</td>\n",
              "      <td>Fair</td>\n",
              "      <td>1865</td>\n",
              "    </tr>\n",
              "    <tr>\n",
              "      <th>6</th>\n",
              "      <td>0.73</td>\n",
              "      <td>Fair</td>\n",
              "      <td>2351</td>\n",
              "    </tr>\n",
              "    <tr>\n",
              "      <th>7</th>\n",
              "      <td>1.01</td>\n",
              "      <td>Good</td>\n",
              "      <td>3768</td>\n",
              "    </tr>\n",
              "    <tr>\n",
              "      <th>8</th>\n",
              "      <td>1.18</td>\n",
              "      <td>Very Good</td>\n",
              "      <td>3965</td>\n",
              "    </tr>\n",
              "    <tr>\n",
              "      <th>9</th>\n",
              "      <td>1.18</td>\n",
              "      <td>Ideal</td>\n",
              "      <td>4838</td>\n",
              "    </tr>\n",
              "  </tbody>\n",
              "</table>\n",
              "</div>"
            ],
            "text/plain": [
              "   carat        cut  price\n",
              "0   0.30      Ideal    422\n",
              "1   0.31      Ideal    489\n",
              "2   0.42    Premium    737\n",
              "3   0.50      Ideal   1415\n",
              "4   0.51    Premium   1177\n",
              "5   0.70       Fair   1865\n",
              "6   0.73       Fair   2351\n",
              "7   1.01       Good   3768\n",
              "8   1.18  Very Good   3965\n",
              "9   1.18      Ideal   4838"
            ]
          },
          "metadata": {
            "tags": []
          },
          "execution_count": 71
        }
      ]
    },
    {
      "metadata": {
        "id": "j0f1SnqJntzk",
        "colab_type": "code",
        "colab": {}
      },
      "cell_type": "code",
      "source": [
        "#ENCODE ORDINAL VARIABLE FROM STRINGS TO NUMBERS"
      ],
      "execution_count": 0,
      "outputs": []
    },
    {
      "metadata": {
        "id": "NHmvErNYnw2w",
        "colab_type": "code",
        "colab": {
          "base_uri": "https://localhost:8080/",
          "height": 347
        },
        "outputId": "3a55be63-7f55-428a-fc1b-29b3c7ad33c3"
      },
      "cell_type": "code",
      "source": [
        "cut_ranks={'Fair': 1,'Good': 2, 'Very Good': 3, 'Premium': 4, 'Ideal': 5}\n",
        "train.cut=train.cut.map(cut_ranks)\n",
        "test.cut=test.cut.map(cut_ranks)\n",
        "train"
      ],
      "execution_count": 73,
      "outputs": [
        {
          "output_type": "execute_result",
          "data": {
            "text/html": [
              "<div>\n",
              "<style scoped>\n",
              "    .dataframe tbody tr th:only-of-type {\n",
              "        vertical-align: middle;\n",
              "    }\n",
              "\n",
              "    .dataframe tbody tr th {\n",
              "        vertical-align: top;\n",
              "    }\n",
              "\n",
              "    .dataframe thead th {\n",
              "        text-align: right;\n",
              "    }\n",
              "</style>\n",
              "<table border=\"1\" class=\"dataframe\">\n",
              "  <thead>\n",
              "    <tr style=\"text-align: right;\">\n",
              "      <th></th>\n",
              "      <th>carat</th>\n",
              "      <th>cut</th>\n",
              "      <th>price</th>\n",
              "    </tr>\n",
              "  </thead>\n",
              "  <tbody>\n",
              "    <tr>\n",
              "      <th>0</th>\n",
              "      <td>0.30</td>\n",
              "      <td>5</td>\n",
              "      <td>422</td>\n",
              "    </tr>\n",
              "    <tr>\n",
              "      <th>1</th>\n",
              "      <td>0.31</td>\n",
              "      <td>5</td>\n",
              "      <td>489</td>\n",
              "    </tr>\n",
              "    <tr>\n",
              "      <th>2</th>\n",
              "      <td>0.42</td>\n",
              "      <td>4</td>\n",
              "      <td>737</td>\n",
              "    </tr>\n",
              "    <tr>\n",
              "      <th>3</th>\n",
              "      <td>0.50</td>\n",
              "      <td>5</td>\n",
              "      <td>1415</td>\n",
              "    </tr>\n",
              "    <tr>\n",
              "      <th>4</th>\n",
              "      <td>0.51</td>\n",
              "      <td>4</td>\n",
              "      <td>1177</td>\n",
              "    </tr>\n",
              "    <tr>\n",
              "      <th>5</th>\n",
              "      <td>0.70</td>\n",
              "      <td>1</td>\n",
              "      <td>1865</td>\n",
              "    </tr>\n",
              "    <tr>\n",
              "      <th>6</th>\n",
              "      <td>0.73</td>\n",
              "      <td>1</td>\n",
              "      <td>2351</td>\n",
              "    </tr>\n",
              "    <tr>\n",
              "      <th>7</th>\n",
              "      <td>1.01</td>\n",
              "      <td>2</td>\n",
              "      <td>3768</td>\n",
              "    </tr>\n",
              "    <tr>\n",
              "      <th>8</th>\n",
              "      <td>1.18</td>\n",
              "      <td>3</td>\n",
              "      <td>3965</td>\n",
              "    </tr>\n",
              "    <tr>\n",
              "      <th>9</th>\n",
              "      <td>1.18</td>\n",
              "      <td>5</td>\n",
              "      <td>4838</td>\n",
              "    </tr>\n",
              "  </tbody>\n",
              "</table>\n",
              "</div>"
            ],
            "text/plain": [
              "   carat  cut  price\n",
              "0   0.30    5    422\n",
              "1   0.31    5    489\n",
              "2   0.42    4    737\n",
              "3   0.50    5   1415\n",
              "4   0.51    4   1177\n",
              "5   0.70    1   1865\n",
              "6   0.73    1   2351\n",
              "7   1.01    2   3768\n",
              "8   1.18    3   3965\n",
              "9   1.18    5   4838"
            ]
          },
          "metadata": {
            "tags": []
          },
          "execution_count": 73
        }
      ]
    },
    {
      "metadata": {
        "id": "b1ZhDzR7nyf-",
        "colab_type": "code",
        "colab": {}
      },
      "cell_type": "code",
      "source": [
        "#DECISION TREE: "
      ],
      "execution_count": 0,
      "outputs": []
    },
    {
      "metadata": {
        "id": "lOj4zHknn0R5",
        "colab_type": "code",
        "colab": {
          "base_uri": "https://localhost:8080/",
          "height": 105
        },
        "outputId": "8805630b-639c-45ba-e9cd-5088343d968e"
      },
      "cell_type": "code",
      "source": [
        "features=['carat','cut']\n",
        "target='price'\n",
        "\n",
        "#Fit Model\n",
        "from sklearn.tree import DecisionTreeRegressor\n",
        "model=DecisionTreeRegressor(criterion='mae')\n",
        "model.fit(train[features],train[target])"
      ],
      "execution_count": 75,
      "outputs": [
        {
          "output_type": "execute_result",
          "data": {
            "text/plain": [
              "DecisionTreeRegressor(criterion='mae', max_depth=None, max_features=None,\n",
              "           max_leaf_nodes=None, min_impurity_decrease=0.0,\n",
              "           min_impurity_split=None, min_samples_leaf=1,\n",
              "           min_samples_split=2, min_weight_fraction_leaf=0.0,\n",
              "           presort=False, random_state=None, splitter='best')"
            ]
          },
          "metadata": {
            "tags": []
          },
          "execution_count": 75
        }
      ]
    },
    {
      "metadata": {
        "id": "x0FcygNBn1-g",
        "colab_type": "code",
        "colab": {
          "base_uri": "https://localhost:8080/",
          "height": 52
        },
        "outputId": "3b97377c-4d61-4a7d-9e3c-4ffb74ef5d70"
      },
      "cell_type": "code",
      "source": [
        "def error(): \n",
        "    #mean absolute error on the training data\n",
        "    y_true=train[target]\n",
        "    y_pred=model.predict(train[features])\n",
        "    train_error=mean_absolute_error(y_true,y_pred)\n",
        "    \n",
        "    #calculate mean absolute error on the test data\n",
        "    y_true=test[target]\n",
        "    y_pred=model.predict(test[features])\n",
        "    test_error=mean_absolute_error(y_true,y_pred)\n",
        "    \n",
        "    #Display the errors\n",
        "    print('Train Error: $', round(train_error))\n",
        "    print('Test Error: $', round(test_error))\n",
        "    \n",
        "error()"
      ],
      "execution_count": 76,
      "outputs": [
        {
          "output_type": "stream",
          "text": [
            "Train Error: $ 0.0\n",
            "Test Error: $ 473.0\n"
          ],
          "name": "stdout"
        }
      ]
    },
    {
      "metadata": {
        "id": "1_t-sejpn4ET",
        "colab_type": "code",
        "colab": {}
      },
      "cell_type": "code",
      "source": [
        "#VISUALIZE THE TREE "
      ],
      "execution_count": 0,
      "outputs": []
    },
    {
      "metadata": {
        "id": "RNAzDH3ln6Ck",
        "colab_type": "code",
        "colab": {
          "base_uri": "https://localhost:8080/",
          "height": 123
        },
        "outputId": "d72b7124-5c38-4fac-c7a5-17fa76958ffd"
      },
      "cell_type": "code",
      "source": [
        "#Install Graphviz...\n",
        "!pip install graphviz\n",
        "!apt-get install graphviz"
      ],
      "execution_count": 78,
      "outputs": [
        {
          "output_type": "stream",
          "text": [
            "Requirement already satisfied: graphviz in /usr/local/lib/python3.6/dist-packages (0.10.1)\n",
            "Reading package lists... Done\n",
            "Building dependency tree       \n",
            "Reading state information... Done\n",
            "graphviz is already the newest version (2.40.1-2).\n",
            "0 upgraded, 0 newly installed, 0 to remove and 13 not upgraded.\n"
          ],
          "name": "stdout"
        }
      ]
    },
    {
      "metadata": {
        "id": "0JXRSWHln7ms",
        "colab_type": "code",
        "colab": {
          "base_uri": "https://localhost:8080/",
          "height": 627
        },
        "outputId": "e412f8c8-4be7-4600-8bba-d093db15aabb"
      },
      "cell_type": "code",
      "source": [
        "import graphviz\n",
        "from sklearn.tree import export_graphviz\n",
        "\n",
        "dot_data=export_graphviz(model,out_file=None, feature_names=features,filled=True, rotate=True)\n",
        "graphviz.Source(dot_data) # It caused some problem in jupyter notebook and gave some errors abour the dot PATH\n",
        "\n",
        "#splitting the data into small groups...\n"
      ],
      "execution_count": 79,
      "outputs": [
        {
          "output_type": "execute_result",
          "data": {
            "text/plain": [
              "<graphviz.files.Source at 0x7ff58ee0ae10>"
            ],
            "image/svg+xml": "<?xml version=\"1.0\" encoding=\"UTF-8\" standalone=\"no\"?>\n<!DOCTYPE svg PUBLIC \"-//W3C//DTD SVG 1.1//EN\"\n \"http://www.w3.org/Graphics/SVG/1.1/DTD/svg11.dtd\">\n<!-- Generated by graphviz version 2.40.1 (20161225.0304)\n -->\n<!-- Title: Tree Pages: 1 -->\n<svg width=\"812pt\" height=\"455pt\"\n viewBox=\"0.00 0.00 812.00 455.00\" xmlns=\"http://www.w3.org/2000/svg\" xmlns:xlink=\"http://www.w3.org/1999/xlink\">\n<g id=\"graph0\" class=\"graph\" transform=\"scale(1 1) rotate(0) translate(4 451)\">\n<title>Tree</title>\n<polygon fill=\"#ffffff\" stroke=\"transparent\" points=\"-4,4 -4,-451 808,-451 808,4 -4,4\"/>\n<!-- 0 -->\n<g id=\"node1\" class=\"node\">\n<title>0</title>\n<polygon fill=\"#e58139\" fill-opacity=\"0.274510\" stroke=\"#000000\" points=\"104,-214.5 0,-214.5 0,-146.5 104,-146.5 104,-214.5\"/>\n<text text-anchor=\"middle\" x=\"52\" y=\"-199.3\" font-family=\"Times,serif\" font-size=\"14.00\" fill=\"#000000\">carat &lt;= 0.87</text>\n<text text-anchor=\"middle\" x=\"52\" y=\"-184.3\" font-family=\"Times,serif\" font-size=\"14.00\" fill=\"#000000\">mae = 1254.7</text>\n<text text-anchor=\"middle\" x=\"52\" y=\"-169.3\" font-family=\"Times,serif\" font-size=\"14.00\" fill=\"#000000\">samples = 10</text>\n<text text-anchor=\"middle\" x=\"52\" y=\"-154.3\" font-family=\"Times,serif\" font-size=\"14.00\" fill=\"#000000\">value = 1640.0</text>\n</g>\n<!-- 1 -->\n<g id=\"node2\" class=\"node\">\n<title>1</title>\n<polygon fill=\"#e58139\" fill-opacity=\"0.172549\" stroke=\"#000000\" points=\"244,-257.5 140,-257.5 140,-189.5 244,-189.5 244,-257.5\"/>\n<text text-anchor=\"middle\" x=\"192\" y=\"-242.3\" font-family=\"Times,serif\" font-size=\"14.00\" fill=\"#000000\">carat &lt;= 0.46</text>\n<text text-anchor=\"middle\" x=\"192\" y=\"-227.3\" font-family=\"Times,serif\" font-size=\"14.00\" fill=\"#000000\">mae = 569.0</text>\n<text text-anchor=\"middle\" x=\"192\" y=\"-212.3\" font-family=\"Times,serif\" font-size=\"14.00\" fill=\"#000000\">samples = 7</text>\n<text text-anchor=\"middle\" x=\"192\" y=\"-197.3\" font-family=\"Times,serif\" font-size=\"14.00\" fill=\"#000000\">value = 1177.0</text>\n</g>\n<!-- 0&#45;&gt;1 -->\n<g id=\"edge1\" class=\"edge\">\n<title>0&#45;&gt;1</title>\n<path fill=\"none\" stroke=\"#000000\" d=\"M104.1308,-196.5116C112.6035,-199.1139 121.4505,-201.8312 130.1286,-204.4966\"/>\n<polygon fill=\"#000000\" stroke=\"#000000\" points=\"129.2387,-207.8846 139.8256,-207.475 131.294,-201.1931 129.2387,-207.8846\"/>\n<text text-anchor=\"middle\" x=\"117.7368\" y=\"-215.4833\" font-family=\"Times,serif\" font-size=\"14.00\" fill=\"#000000\">True</text>\n</g>\n<!-- 14 -->\n<g id=\"node15\" class=\"node\">\n<title>14</title>\n<polygon fill=\"#e58139\" fill-opacity=\"0.803922\" stroke=\"#000000\" points=\"244,-139.5 140,-139.5 140,-71.5 244,-71.5 244,-139.5\"/>\n<text text-anchor=\"middle\" x=\"192\" y=\"-124.3\" font-family=\"Times,serif\" font-size=\"14.00\" fill=\"#000000\">cut &lt;= 4.0</text>\n<text text-anchor=\"middle\" x=\"192\" y=\"-109.3\" font-family=\"Times,serif\" font-size=\"14.00\" fill=\"#000000\">mae = 356.667</text>\n<text text-anchor=\"middle\" x=\"192\" y=\"-94.3\" font-family=\"Times,serif\" font-size=\"14.00\" fill=\"#000000\">samples = 3</text>\n<text text-anchor=\"middle\" x=\"192\" y=\"-79.3\" font-family=\"Times,serif\" font-size=\"14.00\" fill=\"#000000\">value = 3965.0</text>\n</g>\n<!-- 0&#45;&gt;14 -->\n<g id=\"edge14\" class=\"edge\">\n<title>0&#45;&gt;14</title>\n<path fill=\"none\" stroke=\"#000000\" d=\"M104.1308,-152.5728C112.8768,-147.8874 122.0217,-142.9884 130.9678,-138.1958\"/>\n<polygon fill=\"#000000\" stroke=\"#000000\" points=\"132.6636,-141.258 139.8256,-133.4506 129.358,-135.0876 132.6636,-141.258\"/>\n<text text-anchor=\"middle\" x=\"115.8953\" y=\"-122.5158\" font-family=\"Times,serif\" font-size=\"14.00\" fill=\"#000000\">False</text>\n</g>\n<!-- 2 -->\n<g id=\"node3\" class=\"node\">\n<title>2</title>\n<polygon fill=\"#e58139\" fill-opacity=\"0.015686\" stroke=\"#000000\" points=\"380.5,-375.5 283.5,-375.5 283.5,-307.5 380.5,-307.5 380.5,-375.5\"/>\n<text text-anchor=\"middle\" x=\"332\" y=\"-360.3\" font-family=\"Times,serif\" font-size=\"14.00\" fill=\"#000000\">cut &lt;= 4.5</text>\n<text text-anchor=\"middle\" x=\"332\" y=\"-345.3\" font-family=\"Times,serif\" font-size=\"14.00\" fill=\"#000000\">mae = 105.0</text>\n<text text-anchor=\"middle\" x=\"332\" y=\"-330.3\" font-family=\"Times,serif\" font-size=\"14.00\" fill=\"#000000\">samples = 3</text>\n<text text-anchor=\"middle\" x=\"332\" y=\"-315.3\" font-family=\"Times,serif\" font-size=\"14.00\" fill=\"#000000\">value = 489.0</text>\n</g>\n<!-- 1&#45;&gt;2 -->\n<g id=\"edge2\" class=\"edge\">\n<title>1&#45;&gt;2</title>\n<path fill=\"none\" stroke=\"#000000\" d=\"M232.4938,-257.6305C248.4558,-271.0842 266.9233,-286.6497 283.583,-300.6914\"/>\n<polygon fill=\"#000000\" stroke=\"#000000\" points=\"281.6952,-303.6777 291.5972,-307.4462 286.2066,-298.3253 281.6952,-303.6777\"/>\n</g>\n<!-- 7 -->\n<g id=\"node8\" class=\"node\">\n<title>7</title>\n<polygon fill=\"#e58139\" fill-opacity=\"0.274510\" stroke=\"#000000\" points=\"384,-257.5 280,-257.5 280,-189.5 384,-189.5 384,-257.5\"/>\n<text text-anchor=\"middle\" x=\"332\" y=\"-242.3\" font-family=\"Times,serif\" font-size=\"14.00\" fill=\"#000000\">carat &lt;= 0.715</text>\n<text text-anchor=\"middle\" x=\"332\" y=\"-227.3\" font-family=\"Times,serif\" font-size=\"14.00\" fill=\"#000000\">mae = 406.0</text>\n<text text-anchor=\"middle\" x=\"332\" y=\"-212.3\" font-family=\"Times,serif\" font-size=\"14.00\" fill=\"#000000\">samples = 4</text>\n<text text-anchor=\"middle\" x=\"332\" y=\"-197.3\" font-family=\"Times,serif\" font-size=\"14.00\" fill=\"#000000\">value = 1640.0</text>\n</g>\n<!-- 1&#45;&gt;7 -->\n<g id=\"edge7\" class=\"edge\">\n<title>1&#45;&gt;7</title>\n<path fill=\"none\" stroke=\"#000000\" d=\"M244.1308,-223.5C252.4213,-223.5 261.0702,-223.5 269.5685,-223.5\"/>\n<polygon fill=\"#000000\" stroke=\"#000000\" points=\"269.8257,-227.0001 279.8256,-223.5 269.8256,-220.0001 269.8257,-227.0001\"/>\n</g>\n<!-- 3 -->\n<g id=\"node4\" class=\"node\">\n<title>3</title>\n<polygon fill=\"#e58139\" fill-opacity=\"0.070588\" stroke=\"#000000\" points=\"520.5,-447 423.5,-447 423.5,-394 520.5,-394 520.5,-447\"/>\n<text text-anchor=\"middle\" x=\"472\" y=\"-431.8\" font-family=\"Times,serif\" font-size=\"14.00\" fill=\"#000000\">mae = 0.0</text>\n<text text-anchor=\"middle\" x=\"472\" y=\"-416.8\" font-family=\"Times,serif\" font-size=\"14.00\" fill=\"#000000\">samples = 1</text>\n<text text-anchor=\"middle\" x=\"472\" y=\"-401.8\" font-family=\"Times,serif\" font-size=\"14.00\" fill=\"#000000\">value = 737.0</text>\n</g>\n<!-- 2&#45;&gt;3 -->\n<g id=\"edge3\" class=\"edge\">\n<title>2&#45;&gt;3</title>\n<path fill=\"none\" stroke=\"#000000\" d=\"M380.5723,-368.9087C392.0262,-375.3719 404.3271,-382.3132 416.0763,-388.943\"/>\n<polygon fill=\"#000000\" stroke=\"#000000\" points=\"414.5009,-392.0729 424.9301,-393.9391 417.9411,-385.9765 414.5009,-392.0729\"/>\n</g>\n<!-- 4 -->\n<g id=\"node5\" class=\"node\">\n<title>4</title>\n<polygon fill=\"#e58139\" fill-opacity=\"0.007843\" stroke=\"#000000\" points=\"522.5,-375.5 421.5,-375.5 421.5,-307.5 522.5,-307.5 522.5,-375.5\"/>\n<text text-anchor=\"middle\" x=\"472\" y=\"-360.3\" font-family=\"Times,serif\" font-size=\"14.00\" fill=\"#000000\">carat &lt;= 0.305</text>\n<text text-anchor=\"middle\" x=\"472\" y=\"-345.3\" font-family=\"Times,serif\" font-size=\"14.00\" fill=\"#000000\">mae = 33.5</text>\n<text text-anchor=\"middle\" x=\"472\" y=\"-330.3\" font-family=\"Times,serif\" font-size=\"14.00\" fill=\"#000000\">samples = 2</text>\n<text text-anchor=\"middle\" x=\"472\" y=\"-315.3\" font-family=\"Times,serif\" font-size=\"14.00\" fill=\"#000000\">value = 455.5</text>\n</g>\n<!-- 2&#45;&gt;4 -->\n<g id=\"edge4\" class=\"edge\">\n<title>2&#45;&gt;4</title>\n<path fill=\"none\" stroke=\"#000000\" d=\"M380.5723,-341.5C390.4047,-341.5 400.8614,-341.5 411.0573,-341.5\"/>\n<polygon fill=\"#000000\" stroke=\"#000000\" points=\"411.1335,-345.0001 421.1335,-341.5 411.1335,-338.0001 411.1335,-345.0001\"/>\n</g>\n<!-- 5 -->\n<g id=\"node6\" class=\"node\">\n<title>5</title>\n<polygon fill=\"transparent\" stroke=\"#000000\" points=\"660.5,-435 563.5,-435 563.5,-382 660.5,-382 660.5,-435\"/>\n<text text-anchor=\"middle\" x=\"612\" y=\"-419.8\" font-family=\"Times,serif\" font-size=\"14.00\" fill=\"#000000\">mae = 0.0</text>\n<text text-anchor=\"middle\" x=\"612\" y=\"-404.8\" font-family=\"Times,serif\" font-size=\"14.00\" fill=\"#000000\">samples = 1</text>\n<text text-anchor=\"middle\" x=\"612\" y=\"-389.8\" font-family=\"Times,serif\" font-size=\"14.00\" fill=\"#000000\">value = 422.0</text>\n</g>\n<!-- 4&#45;&gt;5 -->\n<g id=\"edge5\" class=\"edge\">\n<title>4&#45;&gt;5</title>\n<path fill=\"none\" stroke=\"#000000\" d=\"M522.5432,-365.6885C532.8414,-370.617 543.75,-375.8375 554.2762,-380.875\"/>\n<polygon fill=\"#000000\" stroke=\"#000000\" points=\"552.872,-384.0831 563.4032,-385.2429 555.8938,-377.769 552.872,-384.0831\"/>\n</g>\n<!-- 6 -->\n<g id=\"node7\" class=\"node\">\n<title>6</title>\n<polygon fill=\"#e58139\" fill-opacity=\"0.015686\" stroke=\"#000000\" points=\"660.5,-364 563.5,-364 563.5,-311 660.5,-311 660.5,-364\"/>\n<text text-anchor=\"middle\" x=\"612\" y=\"-348.8\" font-family=\"Times,serif\" font-size=\"14.00\" fill=\"#000000\">mae = 0.0</text>\n<text text-anchor=\"middle\" x=\"612\" y=\"-333.8\" font-family=\"Times,serif\" font-size=\"14.00\" fill=\"#000000\">samples = 1</text>\n<text text-anchor=\"middle\" x=\"612\" y=\"-318.8\" font-family=\"Times,serif\" font-size=\"14.00\" fill=\"#000000\">value = 489.0</text>\n</g>\n<!-- 4&#45;&gt;6 -->\n<g id=\"edge6\" class=\"edge\">\n<title>4&#45;&gt;6</title>\n<path fill=\"none\" stroke=\"#000000\" d=\"M522.5432,-340.0559C532.5294,-339.7706 543.0894,-339.4689 553.3183,-339.1766\"/>\n<polygon fill=\"#000000\" stroke=\"#000000\" points=\"553.5072,-342.6727 563.4032,-338.8885 553.3072,-335.6756 553.5072,-342.6727\"/>\n</g>\n<!-- 8 -->\n<g id=\"node9\" class=\"node\">\n<title>8</title>\n<polygon fill=\"#e58139\" fill-opacity=\"0.223529\" stroke=\"#000000\" points=\"524,-289.5 420,-289.5 420,-221.5 524,-221.5 524,-289.5\"/>\n<text text-anchor=\"middle\" x=\"472\" y=\"-274.3\" font-family=\"Times,serif\" font-size=\"14.00\" fill=\"#000000\">cut &lt;= 2.5</text>\n<text text-anchor=\"middle\" x=\"472\" y=\"-259.3\" font-family=\"Times,serif\" font-size=\"14.00\" fill=\"#000000\">mae = 229.333</text>\n<text text-anchor=\"middle\" x=\"472\" y=\"-244.3\" font-family=\"Times,serif\" font-size=\"14.00\" fill=\"#000000\">samples = 3</text>\n<text text-anchor=\"middle\" x=\"472\" y=\"-229.3\" font-family=\"Times,serif\" font-size=\"14.00\" fill=\"#000000\">value = 1415.0</text>\n</g>\n<!-- 7&#45;&gt;8 -->\n<g id=\"edge8\" class=\"edge\">\n<title>7&#45;&gt;8</title>\n<path fill=\"none\" stroke=\"#000000\" d=\"M384.1308,-235.4156C392.5124,-237.3314 401.2603,-239.3309 409.8486,-241.294\"/>\n<polygon fill=\"#000000\" stroke=\"#000000\" points=\"409.2971,-244.7581 419.8256,-243.5744 410.857,-237.9341 409.2971,-244.7581\"/>\n</g>\n<!-- 13 -->\n<g id=\"node14\" class=\"node\">\n<title>13</title>\n<polygon fill=\"#e58139\" fill-opacity=\"0.435294\" stroke=\"#000000\" points=\"524,-203 420,-203 420,-150 524,-150 524,-203\"/>\n<text text-anchor=\"middle\" x=\"472\" y=\"-187.8\" font-family=\"Times,serif\" font-size=\"14.00\" fill=\"#000000\">mae = 0.0</text>\n<text text-anchor=\"middle\" x=\"472\" y=\"-172.8\" font-family=\"Times,serif\" font-size=\"14.00\" fill=\"#000000\">samples = 1</text>\n<text text-anchor=\"middle\" x=\"472\" y=\"-157.8\" font-family=\"Times,serif\" font-size=\"14.00\" fill=\"#000000\">value = 2351.0</text>\n</g>\n<!-- 7&#45;&gt;13 -->\n<g id=\"edge13\" class=\"edge\">\n<title>7&#45;&gt;13</title>\n<path fill=\"none\" stroke=\"#000000\" d=\"M384.1308,-205.9989C392.6035,-203.1545 401.4505,-200.1845 410.1286,-197.2711\"/>\n<polygon fill=\"#000000\" stroke=\"#000000\" points=\"411.4595,-200.5163 419.8256,-194.0157 409.2317,-193.8803 411.4595,-200.5163\"/>\n</g>\n<!-- 9 -->\n<g id=\"node10\" class=\"node\">\n<title>9</title>\n<polygon fill=\"#e58139\" fill-opacity=\"0.325490\" stroke=\"#000000\" points=\"664,-286 560,-286 560,-233 664,-233 664,-286\"/>\n<text text-anchor=\"middle\" x=\"612\" y=\"-270.8\" font-family=\"Times,serif\" font-size=\"14.00\" fill=\"#000000\">mae = 0.0</text>\n<text text-anchor=\"middle\" x=\"612\" y=\"-255.8\" font-family=\"Times,serif\" font-size=\"14.00\" fill=\"#000000\">samples = 1</text>\n<text text-anchor=\"middle\" x=\"612\" y=\"-240.8\" font-family=\"Times,serif\" font-size=\"14.00\" fill=\"#000000\">value = 1865.0</text>\n</g>\n<!-- 8&#45;&gt;9 -->\n<g id=\"edge9\" class=\"edge\">\n<title>8&#45;&gt;9</title>\n<path fill=\"none\" stroke=\"#000000\" d=\"M524.1308,-256.9895C532.4213,-257.2263 541.0702,-257.4734 549.5685,-257.7162\"/>\n<polygon fill=\"#000000\" stroke=\"#000000\" points=\"549.7297,-261.2222 559.8256,-258.0093 549.9297,-254.225 549.7297,-261.2222\"/>\n</g>\n<!-- 10 -->\n<g id=\"node11\" class=\"node\">\n<title>10</title>\n<polygon fill=\"#e58139\" fill-opacity=\"0.196078\" stroke=\"#000000\" points=\"664,-214.5 560,-214.5 560,-146.5 664,-146.5 664,-214.5\"/>\n<text text-anchor=\"middle\" x=\"612\" y=\"-199.3\" font-family=\"Times,serif\" font-size=\"14.00\" fill=\"#000000\">carat &lt;= 0.505</text>\n<text text-anchor=\"middle\" x=\"612\" y=\"-184.3\" font-family=\"Times,serif\" font-size=\"14.00\" fill=\"#000000\">mae = 119.0</text>\n<text text-anchor=\"middle\" x=\"612\" y=\"-169.3\" font-family=\"Times,serif\" font-size=\"14.00\" fill=\"#000000\">samples = 2</text>\n<text text-anchor=\"middle\" x=\"612\" y=\"-154.3\" font-family=\"Times,serif\" font-size=\"14.00\" fill=\"#000000\">value = 1296.0</text>\n</g>\n<!-- 8&#45;&gt;10 -->\n<g id=\"edge10\" class=\"edge\">\n<title>8&#45;&gt;10</title>\n<path fill=\"none\" stroke=\"#000000\" d=\"M524.1308,-227.5728C532.8768,-222.8874 542.0217,-217.9884 550.9678,-213.1958\"/>\n<polygon fill=\"#000000\" stroke=\"#000000\" points=\"552.6636,-216.258 559.8256,-208.4506 549.358,-210.0876 552.6636,-216.258\"/>\n</g>\n<!-- 11 -->\n<g id=\"node12\" class=\"node\">\n<title>11</title>\n<polygon fill=\"#e58139\" fill-opacity=\"0.223529\" stroke=\"#000000\" points=\"804,-243 700,-243 700,-190 804,-190 804,-243\"/>\n<text text-anchor=\"middle\" x=\"752\" y=\"-227.8\" font-family=\"Times,serif\" font-size=\"14.00\" fill=\"#000000\">mae = 0.0</text>\n<text text-anchor=\"middle\" x=\"752\" y=\"-212.8\" font-family=\"Times,serif\" font-size=\"14.00\" fill=\"#000000\">samples = 1</text>\n<text text-anchor=\"middle\" x=\"752\" y=\"-197.8\" font-family=\"Times,serif\" font-size=\"14.00\" fill=\"#000000\">value = 1415.0</text>\n</g>\n<!-- 10&#45;&gt;11 -->\n<g id=\"edge11\" class=\"edge\">\n<title>10&#45;&gt;11</title>\n<path fill=\"none\" stroke=\"#000000\" d=\"M664.1308,-193.9051C672.6035,-196.0838 681.4505,-198.3587 690.1286,-200.5902\"/>\n<polygon fill=\"#000000\" stroke=\"#000000\" points=\"689.269,-203.983 699.8256,-203.0837 691.0124,-197.2035 689.269,-203.983\"/>\n</g>\n<!-- 12 -->\n<g id=\"node13\" class=\"node\">\n<title>12</title>\n<polygon fill=\"#e58139\" fill-opacity=\"0.172549\" stroke=\"#000000\" points=\"804,-172 700,-172 700,-119 804,-119 804,-172\"/>\n<text text-anchor=\"middle\" x=\"752\" y=\"-156.8\" font-family=\"Times,serif\" font-size=\"14.00\" fill=\"#000000\">mae = 0.0</text>\n<text text-anchor=\"middle\" x=\"752\" y=\"-141.8\" font-family=\"Times,serif\" font-size=\"14.00\" fill=\"#000000\">samples = 1</text>\n<text text-anchor=\"middle\" x=\"752\" y=\"-126.8\" font-family=\"Times,serif\" font-size=\"14.00\" fill=\"#000000\">value = 1177.0</text>\n</g>\n<!-- 10&#45;&gt;12 -->\n<g id=\"edge12\" class=\"edge\">\n<title>10&#45;&gt;12</title>\n<path fill=\"none\" stroke=\"#000000\" d=\"M664.1308,-167.4673C672.5124,-165.3719 681.2603,-163.1849 689.8486,-161.0379\"/>\n<polygon fill=\"#000000\" stroke=\"#000000\" points=\"690.9731,-164.3645 699.8256,-158.5436 689.2753,-157.5735 690.9731,-164.3645\"/>\n</g>\n<!-- 15 -->\n<g id=\"node16\" class=\"node\">\n<title>15</title>\n<polygon fill=\"#e58139\" fill-opacity=\"0.780392\" stroke=\"#000000\" points=\"384,-139.5 280,-139.5 280,-71.5 384,-71.5 384,-139.5\"/>\n<text text-anchor=\"middle\" x=\"332\" y=\"-124.3\" font-family=\"Times,serif\" font-size=\"14.00\" fill=\"#000000\">cut &lt;= 2.5</text>\n<text text-anchor=\"middle\" x=\"332\" y=\"-109.3\" font-family=\"Times,serif\" font-size=\"14.00\" fill=\"#000000\">mae = 98.5</text>\n<text text-anchor=\"middle\" x=\"332\" y=\"-94.3\" font-family=\"Times,serif\" font-size=\"14.00\" fill=\"#000000\">samples = 2</text>\n<text text-anchor=\"middle\" x=\"332\" y=\"-79.3\" font-family=\"Times,serif\" font-size=\"14.00\" fill=\"#000000\">value = 3866.5</text>\n</g>\n<!-- 14&#45;&gt;15 -->\n<g id=\"edge15\" class=\"edge\">\n<title>14&#45;&gt;15</title>\n<path fill=\"none\" stroke=\"#000000\" d=\"M244.1308,-105.5C252.4213,-105.5 261.0702,-105.5 269.5685,-105.5\"/>\n<polygon fill=\"#000000\" stroke=\"#000000\" points=\"269.8257,-109.0001 279.8256,-105.5 269.8256,-102.0001 269.8257,-109.0001\"/>\n</g>\n<!-- 18 -->\n<g id=\"node19\" class=\"node\">\n<title>18</title>\n<polygon fill=\"#e58139\" stroke=\"#000000\" points=\"384,-53 280,-53 280,0 384,0 384,-53\"/>\n<text text-anchor=\"middle\" x=\"332\" y=\"-37.8\" font-family=\"Times,serif\" font-size=\"14.00\" fill=\"#000000\">mae = 0.0</text>\n<text text-anchor=\"middle\" x=\"332\" y=\"-22.8\" font-family=\"Times,serif\" font-size=\"14.00\" fill=\"#000000\">samples = 1</text>\n<text text-anchor=\"middle\" x=\"332\" y=\"-7.8\" font-family=\"Times,serif\" font-size=\"14.00\" fill=\"#000000\">value = 4838.0</text>\n</g>\n<!-- 14&#45;&gt;18 -->\n<g id=\"edge18\" class=\"edge\">\n<title>14&#45;&gt;18</title>\n<path fill=\"none\" stroke=\"#000000\" d=\"M244.1308,-76.0833C254.5774,-70.1884 265.5931,-63.9725 276.1595,-58.01\"/>\n<polygon fill=\"#000000\" stroke=\"#000000\" points=\"277.9182,-61.0364 284.9073,-53.0738 274.4781,-54.94 277.9182,-61.0364\"/>\n</g>\n<!-- 16 -->\n<g id=\"node17\" class=\"node\">\n<title>16</title>\n<polygon fill=\"#e58139\" fill-opacity=\"0.756863\" stroke=\"#000000\" points=\"524,-132 420,-132 420,-79 524,-79 524,-132\"/>\n<text text-anchor=\"middle\" x=\"472\" y=\"-116.8\" font-family=\"Times,serif\" font-size=\"14.00\" fill=\"#000000\">mae = 0.0</text>\n<text text-anchor=\"middle\" x=\"472\" y=\"-101.8\" font-family=\"Times,serif\" font-size=\"14.00\" fill=\"#000000\">samples = 1</text>\n<text text-anchor=\"middle\" x=\"472\" y=\"-86.8\" font-family=\"Times,serif\" font-size=\"14.00\" fill=\"#000000\">value = 3768.0</text>\n</g>\n<!-- 15&#45;&gt;16 -->\n<g id=\"edge16\" class=\"edge\">\n<title>15&#45;&gt;16</title>\n<path fill=\"none\" stroke=\"#000000\" d=\"M384.1308,-105.5C392.4213,-105.5 401.0702,-105.5 409.5685,-105.5\"/>\n<polygon fill=\"#000000\" stroke=\"#000000\" points=\"409.8257,-109.0001 419.8256,-105.5 409.8256,-102.0001 409.8257,-109.0001\"/>\n</g>\n<!-- 17 -->\n<g id=\"node18\" class=\"node\">\n<title>17</title>\n<polygon fill=\"#e58139\" fill-opacity=\"0.803922\" stroke=\"#000000\" points=\"524,-61 420,-61 420,-8 524,-8 524,-61\"/>\n<text text-anchor=\"middle\" x=\"472\" y=\"-45.8\" font-family=\"Times,serif\" font-size=\"14.00\" fill=\"#000000\">mae = 0.0</text>\n<text text-anchor=\"middle\" x=\"472\" y=\"-30.8\" font-family=\"Times,serif\" font-size=\"14.00\" fill=\"#000000\">samples = 1</text>\n<text text-anchor=\"middle\" x=\"472\" y=\"-15.8\" font-family=\"Times,serif\" font-size=\"14.00\" fill=\"#000000\">value = 3965.0</text>\n</g>\n<!-- 15&#45;&gt;17 -->\n<g id=\"edge17\" class=\"edge\">\n<title>15&#45;&gt;17</title>\n<path fill=\"none\" stroke=\"#000000\" d=\"M384.1308,-79.0622C392.7857,-74.673 401.8312,-70.0856 410.6882,-65.5938\"/>\n<polygon fill=\"#000000\" stroke=\"#000000\" points=\"412.4901,-68.6045 419.8256,-60.9599 409.3239,-62.3614 412.4901,-68.6045\"/>\n</g>\n</g>\n</svg>\n"
          },
          "metadata": {
            "tags": []
          },
          "execution_count": 79
        }
      ]
    },
    {
      "metadata": {
        "id": "o1SJorHJn_XN",
        "colab_type": "code",
        "colab": {
          "base_uri": "https://localhost:8080/",
          "height": 347
        },
        "outputId": "e8eee81d-ddae-4605-e96d-8d3fb0378374"
      },
      "cell_type": "code",
      "source": [
        "train"
      ],
      "execution_count": 80,
      "outputs": [
        {
          "output_type": "execute_result",
          "data": {
            "text/html": [
              "<div>\n",
              "<style scoped>\n",
              "    .dataframe tbody tr th:only-of-type {\n",
              "        vertical-align: middle;\n",
              "    }\n",
              "\n",
              "    .dataframe tbody tr th {\n",
              "        vertical-align: top;\n",
              "    }\n",
              "\n",
              "    .dataframe thead th {\n",
              "        text-align: right;\n",
              "    }\n",
              "</style>\n",
              "<table border=\"1\" class=\"dataframe\">\n",
              "  <thead>\n",
              "    <tr style=\"text-align: right;\">\n",
              "      <th></th>\n",
              "      <th>carat</th>\n",
              "      <th>cut</th>\n",
              "      <th>price</th>\n",
              "    </tr>\n",
              "  </thead>\n",
              "  <tbody>\n",
              "    <tr>\n",
              "      <th>0</th>\n",
              "      <td>0.30</td>\n",
              "      <td>5</td>\n",
              "      <td>422</td>\n",
              "    </tr>\n",
              "    <tr>\n",
              "      <th>1</th>\n",
              "      <td>0.31</td>\n",
              "      <td>5</td>\n",
              "      <td>489</td>\n",
              "    </tr>\n",
              "    <tr>\n",
              "      <th>2</th>\n",
              "      <td>0.42</td>\n",
              "      <td>4</td>\n",
              "      <td>737</td>\n",
              "    </tr>\n",
              "    <tr>\n",
              "      <th>3</th>\n",
              "      <td>0.50</td>\n",
              "      <td>5</td>\n",
              "      <td>1415</td>\n",
              "    </tr>\n",
              "    <tr>\n",
              "      <th>4</th>\n",
              "      <td>0.51</td>\n",
              "      <td>4</td>\n",
              "      <td>1177</td>\n",
              "    </tr>\n",
              "    <tr>\n",
              "      <th>5</th>\n",
              "      <td>0.70</td>\n",
              "      <td>1</td>\n",
              "      <td>1865</td>\n",
              "    </tr>\n",
              "    <tr>\n",
              "      <th>6</th>\n",
              "      <td>0.73</td>\n",
              "      <td>1</td>\n",
              "      <td>2351</td>\n",
              "    </tr>\n",
              "    <tr>\n",
              "      <th>7</th>\n",
              "      <td>1.01</td>\n",
              "      <td>2</td>\n",
              "      <td>3768</td>\n",
              "    </tr>\n",
              "    <tr>\n",
              "      <th>8</th>\n",
              "      <td>1.18</td>\n",
              "      <td>3</td>\n",
              "      <td>3965</td>\n",
              "    </tr>\n",
              "    <tr>\n",
              "      <th>9</th>\n",
              "      <td>1.18</td>\n",
              "      <td>5</td>\n",
              "      <td>4838</td>\n",
              "    </tr>\n",
              "  </tbody>\n",
              "</table>\n",
              "</div>"
            ],
            "text/plain": [
              "   carat  cut  price\n",
              "0   0.30    5    422\n",
              "1   0.31    5    489\n",
              "2   0.42    4    737\n",
              "3   0.50    5   1415\n",
              "4   0.51    4   1177\n",
              "5   0.70    1   1865\n",
              "6   0.73    1   2351\n",
              "7   1.01    2   3768\n",
              "8   1.18    3   3965\n",
              "9   1.18    5   4838"
            ]
          },
          "metadata": {
            "tags": []
          },
          "execution_count": 80
        }
      ]
    },
    {
      "metadata": {
        "id": "4_etExeGcHz7",
        "colab_type": "code",
        "colab": {}
      },
      "cell_type": "code",
      "source": [
        "#Prune The Tree\n",
        "#min_samples_leaf parameter to prune the tree (to reduce the overfiting)"
      ],
      "execution_count": 0,
      "outputs": []
    },
    {
      "metadata": {
        "id": "DIlfrjEfcijv",
        "colab_type": "code",
        "colab": {
          "base_uri": "https://localhost:8080/",
          "height": 52
        },
        "outputId": "7ff6403f-f806-42f0-f1f0-e98223436120"
      },
      "cell_type": "code",
      "source": [
        "model=DecisionTreeRegressor(criterion='mae', min_samples_leaf=2)\n",
        "model.fit(train[features],train[target])\n",
        "error()"
      ],
      "execution_count": 82,
      "outputs": [
        {
          "output_type": "stream",
          "text": [
            "Train Error: $ 211.0\n",
            "Test Error: $ 498.0\n"
          ],
          "name": "stdout"
        }
      ]
    },
    {
      "metadata": {
        "id": "DXfRl4Mac5wb",
        "colab_type": "code",
        "colab": {}
      },
      "cell_type": "code",
      "source": [
        "#The test error become worser..."
      ],
      "execution_count": 0,
      "outputs": []
    },
    {
      "metadata": {
        "id": "AEzBndezdFYJ",
        "colab_type": "code",
        "colab": {
          "base_uri": "https://localhost:8080/",
          "height": 260
        },
        "outputId": "7081097c-8b6c-4188-8755-7e797e5ee664"
      },
      "cell_type": "code",
      "source": [
        "dot_data=export_graphviz(model,out_file=None,feature_names=features, filled=True, rotate=True)\n",
        "graphviz.Source(dot_data)"
      ],
      "execution_count": 84,
      "outputs": [
        {
          "output_type": "execute_result",
          "data": {
            "text/plain": [
              "<graphviz.files.Source at 0x7ff58ee29080>"
            ],
            "image/svg+xml": "<?xml version=\"1.0\" encoding=\"UTF-8\" standalone=\"no\"?>\n<!DOCTYPE svg PUBLIC \"-//W3C//DTD SVG 1.1//EN\"\n \"http://www.w3.org/Graphics/SVG/1.1/DTD/svg11.dtd\">\n<!-- Generated by graphviz version 2.40.1 (20161225.0304)\n -->\n<!-- Title: Tree Pages: 1 -->\n<svg width=\"532pt\" height=\"179pt\"\n viewBox=\"0.00 0.00 532.00 179.00\" xmlns=\"http://www.w3.org/2000/svg\" xmlns:xlink=\"http://www.w3.org/1999/xlink\">\n<g id=\"graph0\" class=\"graph\" transform=\"scale(1 1) rotate(0) translate(4 175)\">\n<title>Tree</title>\n<polygon fill=\"#ffffff\" stroke=\"transparent\" points=\"-4,4 -4,-175 528,-175 528,4 -4,4\"/>\n<!-- 0 -->\n<g id=\"node1\" class=\"node\">\n<title>0</title>\n<polygon fill=\"#e58139\" fill-opacity=\"0.329412\" stroke=\"#000000\" points=\"104,-99.5 0,-99.5 0,-31.5 104,-31.5 104,-99.5\"/>\n<text text-anchor=\"middle\" x=\"52\" y=\"-84.3\" font-family=\"Times,serif\" font-size=\"14.00\" fill=\"#000000\">carat &lt;= 0.87</text>\n<text text-anchor=\"middle\" x=\"52\" y=\"-69.3\" font-family=\"Times,serif\" font-size=\"14.00\" fill=\"#000000\">mae = 1254.7</text>\n<text text-anchor=\"middle\" x=\"52\" y=\"-54.3\" font-family=\"Times,serif\" font-size=\"14.00\" fill=\"#000000\">samples = 10</text>\n<text text-anchor=\"middle\" x=\"52\" y=\"-39.3\" font-family=\"Times,serif\" font-size=\"14.00\" fill=\"#000000\">value = 1640.0</text>\n</g>\n<!-- 1 -->\n<g id=\"node2\" class=\"node\">\n<title>1</title>\n<polygon fill=\"#e58139\" fill-opacity=\"0.196078\" stroke=\"#000000\" points=\"244,-139.5 140,-139.5 140,-71.5 244,-71.5 244,-139.5\"/>\n<text text-anchor=\"middle\" x=\"192\" y=\"-124.3\" font-family=\"Times,serif\" font-size=\"14.00\" fill=\"#000000\">carat &lt;= 0.46</text>\n<text text-anchor=\"middle\" x=\"192\" y=\"-109.3\" font-family=\"Times,serif\" font-size=\"14.00\" fill=\"#000000\">mae = 569.0</text>\n<text text-anchor=\"middle\" x=\"192\" y=\"-94.3\" font-family=\"Times,serif\" font-size=\"14.00\" fill=\"#000000\">samples = 7</text>\n<text text-anchor=\"middle\" x=\"192\" y=\"-79.3\" font-family=\"Times,serif\" font-size=\"14.00\" fill=\"#000000\">value = 1177.0</text>\n</g>\n<!-- 0&#45;&gt;1 -->\n<g id=\"edge1\" class=\"edge\">\n<title>0&#45;&gt;1</title>\n<path fill=\"none\" stroke=\"#000000\" d=\"M104.1308,-80.3945C112.6035,-82.8153 121.4505,-85.343 130.1286,-87.8224\"/>\n<polygon fill=\"#000000\" stroke=\"#000000\" points=\"129.2488,-91.2111 139.8256,-90.593 131.1719,-84.4804 129.2488,-91.2111\"/>\n<text text-anchor=\"middle\" x=\"117.9717\" y=\"-99.0341\" font-family=\"Times,serif\" font-size=\"14.00\" fill=\"#000000\">True</text>\n</g>\n<!-- 6 -->\n<g id=\"node7\" class=\"node\">\n<title>6</title>\n<polygon fill=\"#e58139\" stroke=\"#000000\" points=\"244,-53 140,-53 140,0 244,0 244,-53\"/>\n<text text-anchor=\"middle\" x=\"192\" y=\"-37.8\" font-family=\"Times,serif\" font-size=\"14.00\" fill=\"#000000\">mae = 356.667</text>\n<text text-anchor=\"middle\" x=\"192\" y=\"-22.8\" font-family=\"Times,serif\" font-size=\"14.00\" fill=\"#000000\">samples = 3</text>\n<text text-anchor=\"middle\" x=\"192\" y=\"-7.8\" font-family=\"Times,serif\" font-size=\"14.00\" fill=\"#000000\">value = 3965.0</text>\n</g>\n<!-- 0&#45;&gt;6 -->\n<g id=\"edge6\" class=\"edge\">\n<title>0&#45;&gt;6</title>\n<path fill=\"none\" stroke=\"#000000\" d=\"M104.1308,-50.9778C112.6035,-48.6176 121.4505,-46.1531 130.1286,-43.7356\"/>\n<polygon fill=\"#000000\" stroke=\"#000000\" points=\"131.1317,-47.0895 139.8256,-41.0343 129.2532,-40.3463 131.1317,-47.0895\"/>\n<text text-anchor=\"middle\" x=\"118.0525\" y=\"-25.0489\" font-family=\"Times,serif\" font-size=\"14.00\" fill=\"#000000\">False</text>\n</g>\n<!-- 2 -->\n<g id=\"node3\" class=\"node\">\n<title>2</title>\n<polygon fill=\"transparent\" stroke=\"#000000\" points=\"380.5,-171 283.5,-171 283.5,-118 380.5,-118 380.5,-171\"/>\n<text text-anchor=\"middle\" x=\"332\" y=\"-155.8\" font-family=\"Times,serif\" font-size=\"14.00\" fill=\"#000000\">mae = 105.0</text>\n<text text-anchor=\"middle\" x=\"332\" y=\"-140.8\" font-family=\"Times,serif\" font-size=\"14.00\" fill=\"#000000\">samples = 3</text>\n<text text-anchor=\"middle\" x=\"332\" y=\"-125.8\" font-family=\"Times,serif\" font-size=\"14.00\" fill=\"#000000\">value = 489.0</text>\n</g>\n<!-- 1&#45;&gt;2 -->\n<g id=\"edge2\" class=\"edge\">\n<title>1&#45;&gt;2</title>\n<path fill=\"none\" stroke=\"#000000\" d=\"M244.1308,-120.0222C253.5935,-122.6582 263.5231,-125.4243 273.1628,-128.1096\"/>\n<polygon fill=\"#000000\" stroke=\"#000000\" points=\"272.4992,-131.558 283.0717,-130.87 274.3777,-124.8147 272.4992,-131.558\"/>\n</g>\n<!-- 3 -->\n<g id=\"node4\" class=\"node\">\n<title>3</title>\n<polygon fill=\"#e58139\" fill-opacity=\"0.329412\" stroke=\"#000000\" points=\"384,-99.5 280,-99.5 280,-31.5 384,-31.5 384,-99.5\"/>\n<text text-anchor=\"middle\" x=\"332\" y=\"-84.3\" font-family=\"Times,serif\" font-size=\"14.00\" fill=\"#000000\">cut &lt;= 2.5</text>\n<text text-anchor=\"middle\" x=\"332\" y=\"-69.3\" font-family=\"Times,serif\" font-size=\"14.00\" fill=\"#000000\">mae = 406.0</text>\n<text text-anchor=\"middle\" x=\"332\" y=\"-54.3\" font-family=\"Times,serif\" font-size=\"14.00\" fill=\"#000000\">samples = 4</text>\n<text text-anchor=\"middle\" x=\"332\" y=\"-39.3\" font-family=\"Times,serif\" font-size=\"14.00\" fill=\"#000000\">value = 1640.0</text>\n</g>\n<!-- 1&#45;&gt;3 -->\n<g id=\"edge3\" class=\"edge\">\n<title>1&#45;&gt;3</title>\n<path fill=\"none\" stroke=\"#000000\" d=\"M244.1308,-90.6055C252.6035,-88.1847 261.4505,-85.657 270.1286,-83.1776\"/>\n<polygon fill=\"#000000\" stroke=\"#000000\" points=\"271.1719,-86.5196 279.8256,-80.407 269.2488,-79.7889 271.1719,-86.5196\"/>\n</g>\n<!-- 4 -->\n<g id=\"node5\" class=\"node\">\n<title>4</title>\n<polygon fill=\"#e58139\" fill-opacity=\"0.466667\" stroke=\"#000000\" points=\"524,-128 420,-128 420,-75 524,-75 524,-128\"/>\n<text text-anchor=\"middle\" x=\"472\" y=\"-112.8\" font-family=\"Times,serif\" font-size=\"14.00\" fill=\"#000000\">mae = 243.0</text>\n<text text-anchor=\"middle\" x=\"472\" y=\"-97.8\" font-family=\"Times,serif\" font-size=\"14.00\" fill=\"#000000\">samples = 2</text>\n<text text-anchor=\"middle\" x=\"472\" y=\"-82.8\" font-family=\"Times,serif\" font-size=\"14.00\" fill=\"#000000\">value = 2108.0</text>\n</g>\n<!-- 3&#45;&gt;4 -->\n<g id=\"edge4\" class=\"edge\">\n<title>3&#45;&gt;4</title>\n<path fill=\"none\" stroke=\"#000000\" d=\"M384.1308,-78.9051C392.6035,-81.0838 401.4505,-83.3587 410.1286,-85.5902\"/>\n<polygon fill=\"#000000\" stroke=\"#000000\" points=\"409.269,-88.983 419.8256,-88.0837 411.0124,-82.2035 409.269,-88.983\"/>\n</g>\n<!-- 5 -->\n<g id=\"node6\" class=\"node\">\n<title>5</title>\n<polygon fill=\"#e58139\" fill-opacity=\"0.231373\" stroke=\"#000000\" points=\"524,-57 420,-57 420,-4 524,-4 524,-57\"/>\n<text text-anchor=\"middle\" x=\"472\" y=\"-41.8\" font-family=\"Times,serif\" font-size=\"14.00\" fill=\"#000000\">mae = 119.0</text>\n<text text-anchor=\"middle\" x=\"472\" y=\"-26.8\" font-family=\"Times,serif\" font-size=\"14.00\" fill=\"#000000\">samples = 2</text>\n<text text-anchor=\"middle\" x=\"472\" y=\"-11.8\" font-family=\"Times,serif\" font-size=\"14.00\" fill=\"#000000\">value = 1296.0</text>\n</g>\n<!-- 3&#45;&gt;5 -->\n<g id=\"edge5\" class=\"edge\">\n<title>3&#45;&gt;5</title>\n<path fill=\"none\" stroke=\"#000000\" d=\"M384.1308,-52.4673C392.5124,-50.3719 401.2603,-48.1849 409.8486,-46.0379\"/>\n<polygon fill=\"#000000\" stroke=\"#000000\" points=\"410.9731,-49.3645 419.8256,-43.5436 409.2753,-42.5735 410.9731,-49.3645\"/>\n</g>\n</g>\n</svg>\n"
          },
          "metadata": {
            "tags": []
          },
          "execution_count": 84
        }
      ]
    },
    {
      "metadata": {
        "id": "7Rkd8yxEdkr2",
        "colab_type": "code",
        "colab": {}
      },
      "cell_type": "code",
      "source": [
        "#Multiple Regression:(the best model so far)"
      ],
      "execution_count": 0,
      "outputs": []
    },
    {
      "metadata": {
        "id": "86YMqi-MeEvN",
        "colab_type": "code",
        "colab": {
          "base_uri": "https://localhost:8080/",
          "height": 52
        },
        "outputId": "5bfbe11b-4c84-4d94-d870-4052143641ec"
      },
      "cell_type": "code",
      "source": [
        "model=LinearRegression()\n",
        "model.fit(train[features],train[target])\n",
        "error()\n"
      ],
      "execution_count": 87,
      "outputs": [
        {
          "output_type": "stream",
          "text": [
            "Train Error: $ 171.0\n",
            "Test Error: $ 257.0\n"
          ],
          "name": "stdout"
        }
      ]
    },
    {
      "metadata": {
        "id": "J2MhWkqEeZGN",
        "colab_type": "code",
        "colab": {
          "base_uri": "https://localhost:8080/",
          "height": 34
        },
        "outputId": "aefc6232-5f39-487d-82b2-4c8350486388"
      },
      "cell_type": "code",
      "source": [
        "model.coef_,model.intercept_"
      ],
      "execution_count": 88,
      "outputs": [
        {
          "output_type": "execute_result",
          "data": {
            "text/plain": [
              "(array([4770.55908807,   82.45286436]), -1448.947441495462)"
            ]
          },
          "metadata": {
            "tags": []
          },
          "execution_count": 88
        }
      ]
    },
    {
      "metadata": {
        "id": "l33OpUvdegHs",
        "colab_type": "code",
        "colab": {}
      },
      "cell_type": "code",
      "source": [
        "#price=4771*carat+82*cut-1449 (Equation of the price)"
      ],
      "execution_count": 0,
      "outputs": []
    },
    {
      "metadata": {
        "id": "A-3o0B5jerMv",
        "colab_type": "code",
        "colab": {}
      },
      "cell_type": "code",
      "source": [
        "#Predict the price of a 0.9 carat diamond with \"Very Good\" (3)cut \n",
        "#USING The Formula:"
      ],
      "execution_count": 0,
      "outputs": []
    },
    {
      "metadata": {
        "id": "1joJin4Ietz9",
        "colab_type": "code",
        "colab": {
          "base_uri": "https://localhost:8080/",
          "height": 34
        },
        "outputId": "729d6502-0cbb-48e6-9853-0434a54eb350"
      },
      "cell_type": "code",
      "source": [
        "4771*0.9+82*3-1449"
      ],
      "execution_count": 93,
      "outputs": [
        {
          "output_type": "execute_result",
          "data": {
            "text/plain": [
              "3090.9000000000005"
            ]
          },
          "metadata": {
            "tags": []
          },
          "execution_count": 93
        }
      ]
    },
    {
      "metadata": {
        "id": "0xKhyVVOfqQ1",
        "colab_type": "code",
        "colab": {
          "base_uri": "https://localhost:8080/",
          "height": 34
        },
        "outputId": "0795a069-bd05-4b11-e0e4-9d7af632da98"
      },
      "cell_type": "code",
      "source": [
        "model.predict([[0.9,3]])"
      ],
      "execution_count": 95,
      "outputs": [
        {
          "output_type": "execute_result",
          "data": {
            "text/plain": [
              "array([3091.91433084])"
            ]
          },
          "metadata": {
            "tags": []
          },
          "execution_count": 95
        }
      ]
    },
    {
      "metadata": {
        "id": "69tg__G2fzje",
        "colab_type": "code",
        "colab": {
          "base_uri": "https://localhost:8080/",
          "height": 347
        },
        "outputId": "f83f4199-486d-4f8d-a325-5459f93947bc"
      },
      "cell_type": "code",
      "source": [
        "train"
      ],
      "execution_count": 96,
      "outputs": [
        {
          "output_type": "execute_result",
          "data": {
            "text/html": [
              "<div>\n",
              "<style scoped>\n",
              "    .dataframe tbody tr th:only-of-type {\n",
              "        vertical-align: middle;\n",
              "    }\n",
              "\n",
              "    .dataframe tbody tr th {\n",
              "        vertical-align: top;\n",
              "    }\n",
              "\n",
              "    .dataframe thead th {\n",
              "        text-align: right;\n",
              "    }\n",
              "</style>\n",
              "<table border=\"1\" class=\"dataframe\">\n",
              "  <thead>\n",
              "    <tr style=\"text-align: right;\">\n",
              "      <th></th>\n",
              "      <th>carat</th>\n",
              "      <th>cut</th>\n",
              "      <th>price</th>\n",
              "    </tr>\n",
              "  </thead>\n",
              "  <tbody>\n",
              "    <tr>\n",
              "      <th>0</th>\n",
              "      <td>0.30</td>\n",
              "      <td>5</td>\n",
              "      <td>422</td>\n",
              "    </tr>\n",
              "    <tr>\n",
              "      <th>1</th>\n",
              "      <td>0.31</td>\n",
              "      <td>5</td>\n",
              "      <td>489</td>\n",
              "    </tr>\n",
              "    <tr>\n",
              "      <th>2</th>\n",
              "      <td>0.42</td>\n",
              "      <td>4</td>\n",
              "      <td>737</td>\n",
              "    </tr>\n",
              "    <tr>\n",
              "      <th>3</th>\n",
              "      <td>0.50</td>\n",
              "      <td>5</td>\n",
              "      <td>1415</td>\n",
              "    </tr>\n",
              "    <tr>\n",
              "      <th>4</th>\n",
              "      <td>0.51</td>\n",
              "      <td>4</td>\n",
              "      <td>1177</td>\n",
              "    </tr>\n",
              "    <tr>\n",
              "      <th>5</th>\n",
              "      <td>0.70</td>\n",
              "      <td>1</td>\n",
              "      <td>1865</td>\n",
              "    </tr>\n",
              "    <tr>\n",
              "      <th>6</th>\n",
              "      <td>0.73</td>\n",
              "      <td>1</td>\n",
              "      <td>2351</td>\n",
              "    </tr>\n",
              "    <tr>\n",
              "      <th>7</th>\n",
              "      <td>1.01</td>\n",
              "      <td>2</td>\n",
              "      <td>3768</td>\n",
              "    </tr>\n",
              "    <tr>\n",
              "      <th>8</th>\n",
              "      <td>1.18</td>\n",
              "      <td>3</td>\n",
              "      <td>3965</td>\n",
              "    </tr>\n",
              "    <tr>\n",
              "      <th>9</th>\n",
              "      <td>1.18</td>\n",
              "      <td>5</td>\n",
              "      <td>4838</td>\n",
              "    </tr>\n",
              "  </tbody>\n",
              "</table>\n",
              "</div>"
            ],
            "text/plain": [
              "   carat  cut  price\n",
              "0   0.30    5    422\n",
              "1   0.31    5    489\n",
              "2   0.42    4    737\n",
              "3   0.50    5   1415\n",
              "4   0.51    4   1177\n",
              "5   0.70    1   1865\n",
              "6   0.73    1   2351\n",
              "7   1.01    2   3768\n",
              "8   1.18    3   3965\n",
              "9   1.18    5   4838"
            ]
          },
          "metadata": {
            "tags": []
          },
          "execution_count": 96
        }
      ]
    },
    {
      "metadata": {
        "id": "3xqmGkWvf618",
        "colab_type": "code",
        "colab": {
          "base_uri": "https://localhost:8080/",
          "height": 359
        },
        "outputId": "47e84f12-6d32-4b99-8f80-cd064a7648d6"
      },
      "cell_type": "code",
      "source": [
        "test"
      ],
      "execution_count": 97,
      "outputs": [
        {
          "output_type": "execute_result",
          "data": {
            "text/html": [
              "<div>\n",
              "<style scoped>\n",
              "    .dataframe tbody tr th:only-of-type {\n",
              "        vertical-align: middle;\n",
              "    }\n",
              "\n",
              "    .dataframe tbody tr th {\n",
              "        vertical-align: top;\n",
              "    }\n",
              "\n",
              "    .dataframe thead th {\n",
              "        text-align: right;\n",
              "    }\n",
              "</style>\n",
              "<table border=\"1\" class=\"dataframe\">\n",
              "  <thead>\n",
              "    <tr style=\"text-align: right;\">\n",
              "      <th></th>\n",
              "      <th>carat</th>\n",
              "      <th>cut</th>\n",
              "      <th>price</th>\n",
              "    </tr>\n",
              "  </thead>\n",
              "  <tbody>\n",
              "    <tr>\n",
              "      <th>0</th>\n",
              "      <td>0.30</td>\n",
              "      <td>5</td>\n",
              "      <td>432</td>\n",
              "    </tr>\n",
              "    <tr>\n",
              "      <th>1</th>\n",
              "      <td>0.34</td>\n",
              "      <td>5</td>\n",
              "      <td>687</td>\n",
              "    </tr>\n",
              "    <tr>\n",
              "      <th>2</th>\n",
              "      <td>0.37</td>\n",
              "      <td>4</td>\n",
              "      <td>1124</td>\n",
              "    </tr>\n",
              "    <tr>\n",
              "      <th>3</th>\n",
              "      <td>0.40</td>\n",
              "      <td>2</td>\n",
              "      <td>720</td>\n",
              "    </tr>\n",
              "    <tr>\n",
              "      <th>4</th>\n",
              "      <td>0.51</td>\n",
              "      <td>5</td>\n",
              "      <td>1397</td>\n",
              "    </tr>\n",
              "    <tr>\n",
              "      <th>5</th>\n",
              "      <td>0.51</td>\n",
              "      <td>3</td>\n",
              "      <td>1284</td>\n",
              "    </tr>\n",
              "    <tr>\n",
              "      <th>6</th>\n",
              "      <td>0.59</td>\n",
              "      <td>5</td>\n",
              "      <td>1437</td>\n",
              "    </tr>\n",
              "    <tr>\n",
              "      <th>7</th>\n",
              "      <td>0.70</td>\n",
              "      <td>5</td>\n",
              "      <td>3419</td>\n",
              "    </tr>\n",
              "    <tr>\n",
              "      <th>8</th>\n",
              "      <td>0.90</td>\n",
              "      <td>4</td>\n",
              "      <td>3484</td>\n",
              "    </tr>\n",
              "    <tr>\n",
              "      <th>9</th>\n",
              "      <td>0.90</td>\n",
              "      <td>1</td>\n",
              "      <td>2964</td>\n",
              "    </tr>\n",
              "  </tbody>\n",
              "</table>\n",
              "</div>"
            ],
            "text/plain": [
              "   carat  cut  price\n",
              "0   0.30    5    432\n",
              "1   0.34    5    687\n",
              "2   0.37    4   1124\n",
              "3   0.40    2    720\n",
              "4   0.51    5   1397\n",
              "5   0.51    3   1284\n",
              "6   0.59    5   1437\n",
              "7   0.70    5   3419\n",
              "8   0.90    4   3484\n",
              "9   0.90    1   2964"
            ]
          },
          "metadata": {
            "tags": []
          },
          "execution_count": 97
        }
      ]
    },
    {
      "metadata": {
        "id": "KqTp7cpNgBGD",
        "colab_type": "code",
        "colab": {
          "base_uri": "https://localhost:8080/",
          "height": 34
        },
        "outputId": "c4f35c79-876f-47b0-e467-1793f13f7ae4"
      },
      "cell_type": "code",
      "source": [
        "train.shape # totally 30 numbers in dataset"
      ],
      "execution_count": 99,
      "outputs": [
        {
          "output_type": "execute_result",
          "data": {
            "text/plain": [
              "(10, 3)"
            ]
          },
          "metadata": {
            "tags": []
          },
          "execution_count": 99
        }
      ]
    },
    {
      "metadata": {
        "id": "GJ4Yei97hqit",
        "colab_type": "code",
        "colab": {
          "base_uri": "https://localhost:8080/",
          "height": 34
        },
        "outputId": "9212e5f6-76cc-4cf2-97b0-0d508bdcaad5"
      },
      "cell_type": "code",
      "source": [
        "import seaborn as sns \n",
        "sns.load_dataset('diamonds').shape#about half a million nmbers to search for patterns by hand"
      ],
      "execution_count": 101,
      "outputs": [
        {
          "output_type": "execute_result",
          "data": {
            "text/plain": [
              "(53940, 10)"
            ]
          },
          "metadata": {
            "tags": []
          },
          "execution_count": 101
        }
      ]
    },
    {
      "metadata": {
        "id": "0Ub4x_fRh2DX",
        "colab_type": "code",
        "colab": {}
      },
      "cell_type": "code",
      "source": [
        ""
      ],
      "execution_count": 0,
      "outputs": []
    }
  ]
}